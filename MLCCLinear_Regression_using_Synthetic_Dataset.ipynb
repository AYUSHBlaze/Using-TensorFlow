{
 "cells": [
  {
   "cell_type": "code",
   "execution_count": 13,
   "metadata": {},
   "outputs": [
    {
     "name": "stderr",
     "output_type": "stream",
     "text": [
      "Matplotlib is building the font cache; this may take a moment.\n"
     ]
    }
   ],
   "source": [
    "import pandas as pd\n",
    "import tensorflow as tf\n",
    "import matplotlib.pyplot as plt"
   ]
  },
  {
   "cell_type": "code",
   "execution_count": 14,
   "metadata": {},
   "outputs": [
    {
     "name": "stdout",
     "output_type": "stream",
     "text": [
      "Defined create_model and train_model\n"
     ]
    }
   ],
   "source": [
    "def build_model(my_learning_rate):\n",
    "    model=tf.keras.Sequential()\n",
    "    model.add(tf.keras.layers.Dense(units=1, input_shape=(1, )))\n",
    "    model.compile(optimizer=tf.keras.optimizers.RMSprop(lr=my_learning_rate),\n",
    "                 loss=\"mean_squared_error\", \n",
    "                 metrics=[tf.keras.metrics.RootMeanSquaredError()])\n",
    "    return model\n",
    "\n",
    "def train_model(model, feature, label, epochs, batch_size):\n",
    "    history=model.fit(x=feature,\n",
    "                     y=label,\n",
    "                     batch_size=batch_size, \n",
    "                     epochs=epochs)\n",
    "    trained_weight = model.get_weights()[0]\n",
    "    trained_bias = model.get_weights()[1]\n",
    "    epochs=history.epoch\n",
    "    hist=pd.DataFrame(history.history)\n",
    "    rmse=hist[\"root_mean_squared_error\"]\n",
    "    return trained_weight, trained_bias, epochs, rmse\n",
    "print(\"Defined create_model and train_model\")"
   ]
  },
  {
   "cell_type": "code",
   "execution_count": 15,
   "metadata": {},
   "outputs": [
    {
     "name": "stdout",
     "output_type": "stream",
     "text": [
      "Defined plot_the_model and plot_the_loss_curve functions.\n"
     ]
    }
   ],
   "source": [
    "def plot_the_model(trained_weight, trained_bias, feature, label):\n",
    "    plt.xlabel(\"feature\")\n",
    "    plt.ylabel(\"label\")\n",
    "    plt.scatter(feature, label)\n",
    "    x0=0\n",
    "    y0=trained_bias\n",
    "    x1=my_feature[-1]\n",
    "    y1=trained_bias+(trained_weight*x1)\n",
    "    plt.plot([x0, x1], [y0, y1], c=\"r\")\n",
    "    plt.show()\n",
    "    \n",
    "def plot_the_loss_curve(epochs, rmse):\n",
    "    plt.figure()\n",
    "    plt.xlabel(\"Epoch\")\n",
    "    plt.ylabel(\"Root Mean Squared Error\")\n",
    "    plt.plot(epochs, rmse, label=\"Loss\")\n",
    "    plt.legend()\n",
    "    plt.ylim([rmse.min()*0.97, rmse.max()])\n",
    "    plt.show()\n",
    "    \n",
    "print(\"Defined plot_the_model and plot_the_loss_curve functions.\")"
   ]
  },
  {
   "cell_type": "code",
   "execution_count": 16,
   "metadata": {},
   "outputs": [],
   "source": [
    "my_feature = ([1.0, 2.0,  3.0,  4.0,  5.0,  6.0,  7.0,  8.0,  9.0, 10.0, 11.0, 12.0])\n",
    "my_label   = ([5.0, 8.8,  9.6, 14.2, 18.8, 19.5, 21.4, 26.8, 28.9, 32.0, 33.8, 38.2])"
   ]
  },
  {
   "cell_type": "code",
   "execution_count": 28,
   "metadata": {},
   "outputs": [
    {
     "name": "stdout",
     "output_type": "stream",
     "text": [
      "Epoch 1/100\n",
      "12/12 [==============================] - 0s 15ms/sample - loss: 158.9564 - root_mean_squared_error: 12.6078\n",
      "Epoch 2/100\n",
      "12/12 [==============================] - 0s 772us/sample - loss: 108.7002 - root_mean_squared_error: 10.4259\n",
      "Epoch 3/100\n",
      "12/12 [==============================] - 0s 957us/sample - loss: 79.4945 - root_mean_squared_error: 8.9160\n",
      "Epoch 4/100\n",
      "12/12 [==============================] - 0s 874us/sample - loss: 57.4514 - root_mean_squared_error: 7.5797\n",
      "Epoch 5/100\n",
      "12/12 [==============================] - 0s 936us/sample - loss: 44.1739 - root_mean_squared_error: 6.6463\n",
      "Epoch 6/100\n",
      "12/12 [==============================] - 0s 948us/sample - loss: 32.4477 - root_mean_squared_error: 5.6963\n",
      "Epoch 7/100\n",
      "12/12 [==============================] - 0s 916us/sample - loss: 24.1153 - root_mean_squared_error: 4.9107\n",
      "Epoch 8/100\n",
      "12/12 [==============================] - 0s 1ms/sample - loss: 16.9644 - root_mean_squared_error: 4.1188\n",
      "Epoch 9/100\n",
      "12/12 [==============================] - 0s 712us/sample - loss: 11.6326 - root_mean_squared_error: 3.4107\n",
      "Epoch 10/100\n",
      "12/12 [==============================] - 0s 880us/sample - loss: 7.4478 - root_mean_squared_error: 2.7291\n",
      "Epoch 11/100\n",
      "12/12 [==============================] - 0s 1ms/sample - loss: 5.0158 - root_mean_squared_error: 2.2396\n",
      "Epoch 12/100\n",
      "12/12 [==============================] - 0s 824us/sample - loss: 3.1791 - root_mean_squared_error: 1.7830\n",
      "Epoch 13/100\n",
      "12/12 [==============================] - 0s 1ms/sample - loss: 1.9801 - root_mean_squared_error: 1.4072\n",
      "Epoch 14/100\n",
      "12/12 [==============================] - 0s 869us/sample - loss: 1.4939 - root_mean_squared_error: 1.2222\n",
      "Epoch 15/100\n",
      "12/12 [==============================] - 0s 1ms/sample - loss: 1.1724 - root_mean_squared_error: 1.0828\n",
      "Epoch 16/100\n",
      "12/12 [==============================] - 0s 881us/sample - loss: 0.9818 - root_mean_squared_error: 0.9909\n",
      "Epoch 17/100\n",
      "12/12 [==============================] - 0s 996us/sample - loss: 1.0030 - root_mean_squared_error: 1.0015\n",
      "Epoch 18/100\n",
      "12/12 [==============================] - 0s 976us/sample - loss: 1.0308 - root_mean_squared_error: 1.0153\n",
      "Epoch 19/100\n",
      "12/12 [==============================] - 0s 895us/sample - loss: 1.0185 - root_mean_squared_error: 1.0092\n",
      "Epoch 20/100\n",
      "12/12 [==============================] - 0s 1ms/sample - loss: 1.0222 - root_mean_squared_error: 1.0110\n",
      "Epoch 21/100\n",
      "12/12 [==============================] - 0s 789us/sample - loss: 0.9236 - root_mean_squared_error: 0.9610\n",
      "Epoch 22/100\n",
      "12/12 [==============================] - 0s 1ms/sample - loss: 0.9326 - root_mean_squared_error: 0.9657\n",
      "Epoch 23/100\n",
      "12/12 [==============================] - 0s 1ms/sample - loss: 0.9828 - root_mean_squared_error: 0.9914\n",
      "Epoch 24/100\n",
      "12/12 [==============================] - 0s 796us/sample - loss: 1.1234 - root_mean_squared_error: 1.0599\n",
      "Epoch 25/100\n",
      "12/12 [==============================] - 0s 997us/sample - loss: 0.9447 - root_mean_squared_error: 0.9719\n",
      "Epoch 26/100\n",
      "12/12 [==============================] - 0s 1ms/sample - loss: 1.0300 - root_mean_squared_error: 1.0149\n",
      "Epoch 27/100\n",
      "12/12 [==============================] - 0s 1ms/sample - loss: 0.9361 - root_mean_squared_error: 0.9675\n",
      "Epoch 28/100\n",
      "12/12 [==============================] - 0s 1ms/sample - loss: 1.0652 - root_mean_squared_error: 1.0321\n",
      "Epoch 29/100\n",
      "12/12 [==============================] - 0s 932us/sample - loss: 1.1858 - root_mean_squared_error: 1.0890\n",
      "Epoch 30/100\n",
      "12/12 [==============================] - 0s 1ms/sample - loss: 1.3486 - root_mean_squared_error: 1.1613\n",
      "Epoch 31/100\n",
      "12/12 [==============================] - 0s 1ms/sample - loss: 1.1907 - root_mean_squared_error: 1.0912\n",
      "Epoch 32/100\n",
      "12/12 [==============================] - 0s 850us/sample - loss: 0.9375 - root_mean_squared_error: 0.9682\n",
      "Epoch 33/100\n",
      "12/12 [==============================] - 0s 859us/sample - loss: 1.2086 - root_mean_squared_error: 1.0994\n",
      "Epoch 34/100\n",
      "12/12 [==============================] - 0s 967us/sample - loss: 1.0193 - root_mean_squared_error: 1.0096\n",
      "Epoch 35/100\n",
      "12/12 [==============================] - 0s 895us/sample - loss: 0.8935 - root_mean_squared_error: 0.9452\n",
      "Epoch 36/100\n",
      "12/12 [==============================] - 0s 809us/sample - loss: 0.9400 - root_mean_squared_error: 0.9695\n",
      "Epoch 37/100\n",
      "12/12 [==============================] - 0s 1ms/sample - loss: 1.1182 - root_mean_squared_error: 1.0574\n",
      "Epoch 38/100\n",
      "12/12 [==============================] - 0s 1ms/sample - loss: 1.0133 - root_mean_squared_error: 1.0066\n",
      "Epoch 39/100\n",
      "12/12 [==============================] - 0s 907us/sample - loss: 0.9873 - root_mean_squared_error: 0.9936\n",
      "Epoch 40/100\n",
      "12/12 [==============================] - 0s 1ms/sample - loss: 1.0402 - root_mean_squared_error: 1.0199\n",
      "Epoch 41/100\n",
      "12/12 [==============================] - 0s 924us/sample - loss: 1.0824 - root_mean_squared_error: 1.0404\n",
      "Epoch 42/100\n",
      "12/12 [==============================] - 0s 1ms/sample - loss: 0.9799 - root_mean_squared_error: 0.9899\n",
      "Epoch 43/100\n",
      "12/12 [==============================] - 0s 1ms/sample - loss: 1.0370 - root_mean_squared_error: 1.0183\n",
      "Epoch 44/100\n",
      "12/12 [==============================] - 0s 1ms/sample - loss: 1.2282 - root_mean_squared_error: 1.1083\n",
      "Epoch 45/100\n",
      "12/12 [==============================] - 0s 947us/sample - loss: 0.9386 - root_mean_squared_error: 0.9688\n",
      "Epoch 46/100\n",
      "12/12 [==============================] - 0s 965us/sample - loss: 0.9632 - root_mean_squared_error: 0.9814\n",
      "Epoch 47/100\n",
      "12/12 [==============================] - 0s 1ms/sample - loss: 0.8963 - root_mean_squared_error: 0.9468\n",
      "Epoch 48/100\n",
      "12/12 [==============================] - 0s 1ms/sample - loss: 0.9420 - root_mean_squared_error: 0.9706\n",
      "Epoch 49/100\n",
      "12/12 [==============================] - 0s 1ms/sample - loss: 1.0153 - root_mean_squared_error: 1.0076\n",
      "Epoch 50/100\n",
      "12/12 [==============================] - 0s 865us/sample - loss: 0.9857 - root_mean_squared_error: 0.9928\n",
      "Epoch 51/100\n",
      "12/12 [==============================] - 0s 1ms/sample - loss: 1.0088 - root_mean_squared_error: 1.0044\n",
      "Epoch 52/100\n",
      "12/12 [==============================] - 0s 954us/sample - loss: 1.1426 - root_mean_squared_error: 1.0689\n",
      "Epoch 53/100\n",
      "12/12 [==============================] - 0s 960us/sample - loss: 0.9256 - root_mean_squared_error: 0.9621\n",
      "Epoch 54/100\n",
      "12/12 [==============================] - 0s 837us/sample - loss: 1.0818 - root_mean_squared_error: 1.0401\n",
      "Epoch 55/100\n",
      "12/12 [==============================] - 0s 1ms/sample - loss: 0.9871 - root_mean_squared_error: 0.9935\n",
      "Epoch 56/100\n",
      "12/12 [==============================] - 0s 1ms/sample - loss: 0.8944 - root_mean_squared_error: 0.9457\n",
      "Epoch 57/100\n",
      "12/12 [==============================] - 0s 1ms/sample - loss: 0.8903 - root_mean_squared_error: 0.9436\n",
      "Epoch 58/100\n",
      "12/12 [==============================] - 0s 1ms/sample - loss: 0.9816 - root_mean_squared_error: 0.9907\n",
      "Epoch 59/100\n",
      "12/12 [==============================] - 0s 1ms/sample - loss: 0.9238 - root_mean_squared_error: 0.9611\n",
      "Epoch 60/100\n",
      "12/12 [==============================] - 0s 857us/sample - loss: 1.2869 - root_mean_squared_error: 1.1344\n",
      "Epoch 61/100\n",
      "12/12 [==============================] - 0s 764us/sample - loss: 0.9990 - root_mean_squared_error: 0.9995\n",
      "Epoch 62/100\n",
      "12/12 [==============================] - 0s 808us/sample - loss: 0.8914 - root_mean_squared_error: 0.9442\n",
      "Epoch 63/100\n",
      "12/12 [==============================] - 0s 850us/sample - loss: 0.9328 - root_mean_squared_error: 0.9658\n",
      "Epoch 64/100\n",
      "12/12 [==============================] - 0s 616us/sample - loss: 1.1443 - root_mean_squared_error: 1.0697\n",
      "Epoch 65/100\n",
      "12/12 [==============================] - 0s 953us/sample - loss: 0.9939 - root_mean_squared_error: 0.9969\n",
      "Epoch 66/100\n",
      "12/12 [==============================] - 0s 1ms/sample - loss: 0.9894 - root_mean_squared_error: 0.9947\n",
      "Epoch 67/100\n",
      "12/12 [==============================] - 0s 1ms/sample - loss: 1.1234 - root_mean_squared_error: 1.0599\n",
      "Epoch 68/100\n",
      "12/12 [==============================] - 0s 784us/sample - loss: 1.0241 - root_mean_squared_error: 1.0120\n",
      "Epoch 69/100\n",
      "12/12 [==============================] - 0s 779us/sample - loss: 1.1600 - root_mean_squared_error: 1.0770\n",
      "Epoch 70/100\n"
     ]
    },
    {
     "name": "stdout",
     "output_type": "stream",
     "text": [
      "12/12 [==============================] - 0s 691us/sample - loss: 0.9324 - root_mean_squared_error: 0.9656\n",
      "Epoch 71/100\n",
      "12/12 [==============================] - 0s 843us/sample - loss: 0.9699 - root_mean_squared_error: 0.9848\n",
      "Epoch 72/100\n",
      "12/12 [==============================] - 0s 1ms/sample - loss: 0.9604 - root_mean_squared_error: 0.9800\n",
      "Epoch 73/100\n",
      "12/12 [==============================] - 0s 1ms/sample - loss: 0.9376 - root_mean_squared_error: 0.9683\n",
      "Epoch 74/100\n",
      "12/12 [==============================] - 0s 722us/sample - loss: 0.9877 - root_mean_squared_error: 0.9938\n",
      "Epoch 75/100\n",
      "12/12 [==============================] - 0s 1ms/sample - loss: 0.9101 - root_mean_squared_error: 0.9540\n",
      "Epoch 76/100\n",
      "12/12 [==============================] - 0s 840us/sample - loss: 0.9255 - root_mean_squared_error: 0.9620\n",
      "Epoch 77/100\n",
      "12/12 [==============================] - 0s 847us/sample - loss: 0.9812 - root_mean_squared_error: 0.9905\n",
      "Epoch 78/100\n",
      "12/12 [==============================] - 0s 891us/sample - loss: 1.3194 - root_mean_squared_error: 1.1487\n",
      "Epoch 79/100\n",
      "12/12 [==============================] - 0s 1ms/sample - loss: 1.0757 - root_mean_squared_error: 1.0372\n",
      "Epoch 80/100\n",
      "12/12 [==============================] - 0s 1ms/sample - loss: 1.0852 - root_mean_squared_error: 1.0417\n",
      "Epoch 81/100\n",
      "12/12 [==============================] - 0s 1ms/sample - loss: 1.0676 - root_mean_squared_error: 1.0333\n",
      "Epoch 82/100\n",
      "12/12 [==============================] - 0s 1ms/sample - loss: 0.9996 - root_mean_squared_error: 0.9998\n",
      "Epoch 83/100\n",
      "12/12 [==============================] - 0s 998us/sample - loss: 0.9767 - root_mean_squared_error: 0.9883\n",
      "Epoch 84/100\n",
      "12/12 [==============================] - 0s 984us/sample - loss: 1.2089 - root_mean_squared_error: 1.0995\n",
      "Epoch 85/100\n",
      "12/12 [==============================] - 0s 965us/sample - loss: 1.2433 - root_mean_squared_error: 1.1151\n",
      "Epoch 86/100\n",
      "12/12 [==============================] - 0s 865us/sample - loss: 1.1227 - root_mean_squared_error: 1.0596\n",
      "Epoch 87/100\n",
      "12/12 [==============================] - 0s 1ms/sample - loss: 1.0596 - root_mean_squared_error: 1.0294\n",
      "Epoch 88/100\n",
      "12/12 [==============================] - 0s 1ms/sample - loss: 0.9054 - root_mean_squared_error: 0.9515\n",
      "Epoch 89/100\n",
      "12/12 [==============================] - 0s 1ms/sample - loss: 0.9238 - root_mean_squared_error: 0.9612\n",
      "Epoch 90/100\n",
      "12/12 [==============================] - 0s 1ms/sample - loss: 1.0471 - root_mean_squared_error: 1.0233\n",
      "Epoch 91/100\n",
      "12/12 [==============================] - 0s 1ms/sample - loss: 1.2339 - root_mean_squared_error: 1.1108\n",
      "Epoch 92/100\n",
      "12/12 [==============================] - 0s 914us/sample - loss: 0.9327 - root_mean_squared_error: 0.9658\n",
      "Epoch 93/100\n",
      "12/12 [==============================] - 0s 811us/sample - loss: 1.0091 - root_mean_squared_error: 1.0045\n",
      "Epoch 94/100\n",
      "12/12 [==============================] - 0s 966us/sample - loss: 0.9619 - root_mean_squared_error: 0.9808\n",
      "Epoch 95/100\n",
      "12/12 [==============================] - 0s 890us/sample - loss: 1.2548 - root_mean_squared_error: 1.1202\n",
      "Epoch 96/100\n",
      "12/12 [==============================] - 0s 1ms/sample - loss: 0.9237 - root_mean_squared_error: 0.9611\n",
      "Epoch 97/100\n",
      "12/12 [==============================] - 0s 1ms/sample - loss: 1.1691 - root_mean_squared_error: 1.0812\n",
      "Epoch 98/100\n",
      "12/12 [==============================] - 0s 1ms/sample - loss: 0.9107 - root_mean_squared_error: 0.9543\n",
      "Epoch 99/100\n",
      "12/12 [==============================] - 0s 768us/sample - loss: 0.9130 - root_mean_squared_error: 0.9555\n",
      "Epoch 100/100\n",
      "12/12 [==============================] - 0s 873us/sample - loss: 0.9551 - root_mean_squared_error: 0.9773\n"
     ]
    },
    {
     "name": "stderr",
     "output_type": "stream",
     "text": [
      "e:\\python 3.7.6\\lib\\site-packages\\numpy\\core\\_asarray.py:136: VisibleDeprecationWarning: Creating an ndarray from ragged nested sequences (which is a list-or-tuple of lists-or-tuples-or ndarrays with different lengths or shapes) is deprecated. If you meant to do this, you must specify 'dtype=object' when creating the ndarray\n",
      "  return array(a, dtype, copy=False, order=order, subok=True)\n"
     ]
    },
    {
     "data": {
      "image/png": "[encoded data removed]",
      "text/plain": [
       "<Figure size 432x288 with 1 Axes>"
      ]
     },
     "metadata": {
      "needs_background": "light"
     },
     "output_type": "display_data"
    },
    {
     "data": {
      "image/png": "[encoded data removed]",
      "text/plain": [
       "<Figure size 432x288 with 1 Axes>"
      ]
     },
     "metadata": {
      "needs_background": "light"
     },
     "output_type": "display_data"
    }
   ],
   "source": [
    "learning_rate=0.05\n",
    "epochs=100\n",
    "my_batch_size=5\n",
    "\n",
    "my_model = build_model(learning_rate)\n",
    "trained_weight, trained_bias, epochs, rmse = train_model(my_model, my_feature, \n",
    "                                                         my_label, epochs,\n",
    "                                                         my_batch_size)\n",
    "plot_the_model(trained_weight, trained_bias, my_feature, my_label)\n",
    "plot_the_loss_curve(epochs, rmse)"
   ]
  }
 ],
 "metadata": {
  "kernelspec": {
   "display_name": "Python 3",
   "language": "python",
   "name": "python3"
  },
  "language_info": {
   "codemirror_mode": {
    "name": "ipython",
    "version": 3
   },
   "file_extension": ".py",
   "mimetype": "text/x-python",
   "name": "python",
   "nbconvert_exporter": "python",
   "pygments_lexer": "ipython3",
   "version": "3.7.6"
  }
 },
 "nbformat": 4,
 "nbformat_minor": 4
}
