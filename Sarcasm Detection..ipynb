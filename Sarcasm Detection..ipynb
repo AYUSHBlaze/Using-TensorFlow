{
 "cells": [
  {
   "cell_type": "code",
   "execution_count": 2,
   "metadata": {},
   "outputs": [],
   "source": [
    "import json\n",
    "import tensorflow as tf\n",
    "from tensorflow.keras.preprocessing.text import Tokenizer\n",
    "from tensorflow.keras.preprocessing.sequence import pad_sequences"
   ]
  },
  {
   "cell_type": "code",
   "execution_count": 3,
   "metadata": {},
   "outputs": [],
   "source": [
    "vocab_size=10000\n",
    "embedding_dim=16\n",
    "max_length=100\n",
    "trunc_type='post'\n",
    "padding_type='post'\n",
    "oov_tok='<OOV>'\n",
    "training_size=20000"
   ]
  },
  {
   "cell_type": "code",
   "execution_count": 4,
   "metadata": {},
   "outputs": [],
   "source": [
    "with open(\"sarcasm.json\", 'r') as f:\n",
    "    datastore = json.load(f)\n",
    "\n",
    "sentences = []\n",
    "labels = []\n",
    "\n",
    "for item in datastore:\n",
    "    sentences.append(item['headline'])\n",
    "    labels.append(item['is_sarcastic'])"
   ]
  },
  {
   "cell_type": "code",
   "execution_count": 5,
   "metadata": {},
   "outputs": [],
   "source": [
    "training_sentences=sentences[0:training_size]\n",
    "testing_sentences=sentences[training_size:]\n",
    "training_labels=labels[0:training_size]\n",
    "testing_labels=labels[training_size:]"
   ]
  },
  {
   "cell_type": "code",
   "execution_count": 6,
   "metadata": {},
   "outputs": [],
   "source": [
    "tokenizer=Tokenizer(num_words=vocab_size, oov_token=oov_tok)\n",
    "tokenizer.fit_on_texts(training_sentences)\n",
    "\n",
    "word_index=tokenizer.word_index\n",
    "\n",
    "training_sequences=tokenizer.texts_to_sequences(training_sentences)\n",
    "training_padded = pad_sequences(training_sequences, maxlen=max_length, padding=padding_type, truncating=trunc_type)\n",
    "\n",
    "testing_sequences = tokenizer.texts_to_sequences(testing_sentences)\n",
    "testing_padded = pad_sequences(testing_sequences, maxlen=max_length, padding=padding_type, truncating=trunc_type)"
   ]
  },
  {
   "cell_type": "code",
   "execution_count": 7,
   "metadata": {},
   "outputs": [],
   "source": [
    "import numpy as np\n",
    "training_padded = np.array(training_padded)\n",
    "training_labels = np.array(training_labels)\n",
    "testing_padded = np.array(testing_padded)\n",
    "testing_labels = np.array(testing_labels)"
   ]
  },
  {
   "cell_type": "code",
   "execution_count": 8,
   "metadata": {},
   "outputs": [],
   "source": [
    "model= tf.keras.Sequential([\n",
    "    tf.keras.layers.Embedding(vocab_size, embedding_dim, input_length=max_length),\n",
    "    tf.keras.layers.GlobalAveragePooling1D(),\n",
    "    tf.keras.layers.Dense(24, activation='relu'),\n",
    "    tf.keras.layers.Dense(1, activation='sigmoid')\n",
    "])\n",
    "model.compile(loss='binary_crossentropy',optimizer='adam',metrics=['accuracy'])"
   ]
  },
  {
   "cell_type": "code",
   "execution_count": 9,
   "metadata": {},
   "outputs": [
    {
     "name": "stdout",
     "output_type": "stream",
     "text": [
      "Model: \"sequential\"\n",
      "_________________________________________________________________\n",
      "Layer (type)                 Output Shape              Param #   \n",
      "=================================================================\n",
      "embedding (Embedding)        (None, 100, 16)           160000    \n",
      "_________________________________________________________________\n",
      "global_average_pooling1d (Gl (None, 16)                0         \n",
      "_________________________________________________________________\n",
      "dense (Dense)                (None, 24)                408       \n",
      "_________________________________________________________________\n",
      "dense_1 (Dense)              (None, 1)                 25        \n",
      "=================================================================\n",
      "Total params: 160,433\n",
      "Trainable params: 160,433\n",
      "Non-trainable params: 0\n",
      "_________________________________________________________________\n"
     ]
    }
   ],
   "source": [
    "model.summary()"
   ]
  },
  {
   "cell_type": "code",
   "execution_count": 12,
   "metadata": {
    "scrolled": true
   },
   "outputs": [
    {
     "name": "stdout",
     "output_type": "stream",
     "text": [
      "Train on 20000 samples, validate on 6709 samples\n",
      "Epoch 1/30\n",
      "20000/20000 - 8s - loss: 0.6753 - accuracy: 0.5691 - val_loss: 0.6200 - val_accuracy: 0.6441\n",
      "Epoch 2/30\n",
      "20000/20000 - 4s - loss: 0.4708 - accuracy: 0.8214 - val_loss: 0.4009 - val_accuracy: 0.8305\n",
      "Epoch 3/30\n",
      "20000/20000 - 4s - loss: 0.3298 - accuracy: 0.8697 - val_loss: 0.3625 - val_accuracy: 0.8444\n",
      "Epoch 4/30\n",
      "20000/20000 - 4s - loss: 0.2761 - accuracy: 0.8925 - val_loss: 0.3465 - val_accuracy: 0.8532\n",
      "Epoch 5/30\n",
      "20000/20000 - 4s - loss: 0.2420 - accuracy: 0.9066 - val_loss: 0.3412 - val_accuracy: 0.8583\n",
      "Epoch 6/30\n",
      "20000/20000 - 4s - loss: 0.2135 - accuracy: 0.9176 - val_loss: 0.3421 - val_accuracy: 0.8563\n",
      "Epoch 7/30\n",
      "20000/20000 - 4s - loss: 0.1913 - accuracy: 0.9263 - val_loss: 0.3545 - val_accuracy: 0.8512\n",
      "Epoch 8/30\n",
      "20000/20000 - 4s - loss: 0.1727 - accuracy: 0.9352 - val_loss: 0.3659 - val_accuracy: 0.8502\n",
      "Epoch 9/30\n",
      "20000/20000 - 4s - loss: 0.1569 - accuracy: 0.9424 - val_loss: 0.3768 - val_accuracy: 0.8486\n",
      "Epoch 10/30\n",
      "20000/20000 - 4s - loss: 0.1413 - accuracy: 0.9505 - val_loss: 0.3993 - val_accuracy: 0.8444\n",
      "Epoch 11/30\n",
      "20000/20000 - 4s - loss: 0.1296 - accuracy: 0.9535 - val_loss: 0.4050 - val_accuracy: 0.8523\n",
      "Epoch 12/30\n",
      "20000/20000 - 5s - loss: 0.1188 - accuracy: 0.9587 - val_loss: 0.4244 - val_accuracy: 0.8472\n",
      "Epoch 13/30\n",
      "20000/20000 - 4s - loss: 0.1097 - accuracy: 0.9632 - val_loss: 0.4437 - val_accuracy: 0.8419\n",
      "Epoch 14/30\n",
      "20000/20000 - 4s - loss: 0.1009 - accuracy: 0.9657 - val_loss: 0.4943 - val_accuracy: 0.8307\n",
      "Epoch 15/30\n",
      "20000/20000 - 4s - loss: 0.0934 - accuracy: 0.9687 - val_loss: 0.4823 - val_accuracy: 0.8438\n",
      "Epoch 16/30\n",
      "20000/20000 - 4s - loss: 0.0855 - accuracy: 0.9733 - val_loss: 0.5078 - val_accuracy: 0.8408\n",
      "Epoch 17/30\n",
      "20000/20000 - 5s - loss: 0.0805 - accuracy: 0.9729 - val_loss: 0.5347 - val_accuracy: 0.8392\n",
      "Epoch 18/30\n",
      "20000/20000 - 4s - loss: 0.0727 - accuracy: 0.9768 - val_loss: 0.5527 - val_accuracy: 0.8363\n",
      "Epoch 19/30\n",
      "20000/20000 - 5s - loss: 0.0691 - accuracy: 0.9778 - val_loss: 0.5793 - val_accuracy: 0.8356\n",
      "Epoch 20/30\n",
      "20000/20000 - 4s - loss: 0.0624 - accuracy: 0.9804 - val_loss: 0.6078 - val_accuracy: 0.8329\n",
      "Epoch 21/30\n",
      "20000/20000 - 4s - loss: 0.0583 - accuracy: 0.9826 - val_loss: 0.6315 - val_accuracy: 0.8322\n",
      "Epoch 22/30\n",
      "20000/20000 - 4s - loss: 0.0540 - accuracy: 0.9842 - val_loss: 0.6565 - val_accuracy: 0.8316\n",
      "Epoch 23/30\n",
      "20000/20000 - 5s - loss: 0.0515 - accuracy: 0.9848 - val_loss: 0.6925 - val_accuracy: 0.8274\n",
      "Epoch 24/30\n",
      "20000/20000 - 5s - loss: 0.0478 - accuracy: 0.9858 - val_loss: 0.7287 - val_accuracy: 0.8265\n",
      "Epoch 25/30\n",
      "20000/20000 - 4s - loss: 0.0450 - accuracy: 0.9872 - val_loss: 0.7551 - val_accuracy: 0.8243\n",
      "Epoch 26/30\n",
      "20000/20000 - 4s - loss: 0.0408 - accuracy: 0.9886 - val_loss: 0.7730 - val_accuracy: 0.8256\n",
      "Epoch 27/30\n",
      "20000/20000 - 4s - loss: 0.0379 - accuracy: 0.9888 - val_loss: 0.8159 - val_accuracy: 0.8241\n",
      "Epoch 28/30\n",
      "20000/20000 - 4s - loss: 0.0342 - accuracy: 0.9911 - val_loss: 0.8523 - val_accuracy: 0.8208\n",
      "Epoch 29/30\n",
      "20000/20000 - 5s - loss: 0.0329 - accuracy: 0.9907 - val_loss: 0.8648 - val_accuracy: 0.8196\n",
      "Epoch 30/30\n",
      "20000/20000 - 3s - loss: 0.0318 - accuracy: 0.9915 - val_loss: 0.9063 - val_accuracy: 0.8183\n"
     ]
    }
   ],
   "source": [
    "num_epochs=30\n",
    "history=model.fit(training_padded, training_labels, epochs=num_epochs, validation_data=(testing_padded, testing_labels), verbose=2)"
   ]
  },
  {
   "cell_type": "code",
   "execution_count": 15,
   "metadata": {
    "scrolled": false
   },
   "outputs": [
    {
     "data": {
      "image/png": "[encoded data removed]",
      "text/plain": [
       "<Figure size 432x288 with 1 Axes>"
      ]
     },
     "metadata": {
      "needs_background": "light"
     },
     "output_type": "display_data"
    },
    {
     "data": {
      "image/png": "[encoded data removed]",
      "text/plain": [
       "<Figure size 432x288 with 1 Axes>"
      ]
     },
     "metadata": {
      "needs_background": "light"
     },
     "output_type": "display_data"
    }
   ],
   "source": [
    "import matplotlib.pyplot as plt\n",
    "\n",
    "def plot_graphs(history, string):\n",
    "  plt.plot(history.history[string])\n",
    "  plt.plot(history.history['val_'+string])\n",
    "  plt.xlabel(\"Epochs\")\n",
    "  plt.ylabel(string)\n",
    "  plt.legend([string, 'val_'+string])\n",
    "  plt.show()\n",
    "  \n",
    "plot_graphs(history, \"accuracy\")\n",
    "plot_graphs(history, \"loss\")"
   ]
  },
  {
   "cell_type": "code",
   "execution_count": 16,
   "metadata": {},
   "outputs": [
    {
     "name": "stdout",
     "output_type": "stream",
     "text": [
      "former <OOV> store clerk sues over secret 'black <OOV> for minority shoppers ? ? ? ? ? ? ? ? ? ? ? ? ? ? ? ? ? ? ? ? ? ? ? ? ? ? ? ? ? ? ? ? ? ? ? ? ? ? ? ? ? ? ? ? ? ? ? ? ? ? ? ? ? ? ? ? ? ? ? ? ? ? ? ? ? ? ? ? ? ? ? ? ? ? ? ? ? ? ? ? ? ? ? ? ? ? ? ?\n",
      "mom starting to fear son's web series closest thing she will have to grandchild\n",
      "1\n"
     ]
    }
   ],
   "source": [
    "reverse_word_index = dict([(value, key) for (key, value) in word_index.items()])\n",
    "\n",
    "def decode_sentence(text):\n",
    "    return ' '.join([reverse_word_index.get(i, '?') for i in text])\n",
    "\n",
    "print(decode_sentence(training_padded[0]))\n",
    "print(training_sentences[2])\n",
    "print(labels[2])"
   ]
  },
  {
   "cell_type": "code",
   "execution_count": 17,
   "metadata": {},
   "outputs": [
    {
     "name": "stdout",
     "output_type": "stream",
     "text": [
      "(10000, 16)\n"
     ]
    }
   ],
   "source": [
    "e = model.layers[0]\n",
    "weights = e.get_weights()[0]\n",
    "print(weights.shape) # shape: (vocab_size, embedding_dim)"
   ]
  },
  {
   "cell_type": "code",
   "execution_count": 18,
   "metadata": {},
   "outputs": [],
   "source": [
    "import io\n",
    "\n",
    "out_v = io.open('vecs.tsv', 'w', encoding='utf-8')\n",
    "out_m = io.open('meta.tsv', 'w', encoding='utf-8')\n",
    "for word_num in range(1, vocab_size):\n",
    "  word = reverse_word_index[word_num]\n",
    "  embeddings = weights[word_num]\n",
    "  out_m.write(word + \"\\n\")\n",
    "  out_v.write('\\t'.join([str(x) for x in embeddings]) + \"\\n\")\n",
    "out_v.close()\n",
    "out_m.close()"
   ]
  },
  {
   "cell_type": "code",
   "execution_count": 19,
   "metadata": {},
   "outputs": [],
   "source": [
    "try:\n",
    "  from google.colab import files\n",
    "except ImportError:\n",
    "  pass\n",
    "else:\n",
    "  files.download('vecs.tsv')\n",
    "  files.download('meta.tsv')"
   ]
  },
  {
   "cell_type": "code",
   "execution_count": 33,
   "metadata": {},
   "outputs": [
    {
     "name": "stdout",
     "output_type": "stream",
     "text": [
      "[[0.17628235]\n",
      " [0.99325824]]\n"
     ]
    }
   ],
   "source": [
    "sentence = [\"writers regret naming every single character\", \"He goes to school with a bag;\"]\n",
    "sequences = tokenizer.texts_to_sequences(sentence)\n",
    "padded = pad_sequences(sequences, maxlen=max_length, padding=padding_type, truncating=trunc_type)\n",
    "print(model.predict(padded))"
   ]
  },
  {
   "cell_type": "code",
   "execution_count": null,
   "metadata": {},
   "outputs": [],
   "source": []
  }
 ],
 "metadata": {
  "kernelspec": {
   "display_name": "Python 3",
   "language": "python",
   "name": "python3"
  },
  "language_info": {
   "codemirror_mode": {
    "name": "ipython",
    "version": 3
   },
   "file_extension": ".py",
   "mimetype": "text/x-python",
   "name": "python",
   "nbconvert_exporter": "python",
   "pygments_lexer": "ipython3",
   "version": "3.7.6"
  }
 },
 "nbformat": 4,
 "nbformat_minor": 4
}
