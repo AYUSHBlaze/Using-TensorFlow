{
 "cells": [
  {
   "cell_type": "code",
   "execution_count": 2,
   "metadata": {},
   "outputs": [
    {
     "name": "stderr",
     "output_type": "stream",
     "text": [
      "e:\\python 3.7.6\\lib\\site-packages\\tensorflow\\python\\framework\\dtypes.py:523: FutureWarning: Passing (type, 1) or '1type' as a synonym of type is deprecated; in a future version of numpy, it will be understood as (type, (1,)) / '(1,)type'.\n",
      "  _np_qint8 = np.dtype([(\"qint8\", np.int8, 1)])\n",
      "e:\\python 3.7.6\\lib\\site-packages\\tensorflow\\python\\framework\\dtypes.py:524: FutureWarning: Passing (type, 1) or '1type' as a synonym of type is deprecated; in a future version of numpy, it will be understood as (type, (1,)) / '(1,)type'.\n",
      "  _np_quint8 = np.dtype([(\"quint8\", np.uint8, 1)])\n",
      "e:\\python 3.7.6\\lib\\site-packages\\tensorflow\\python\\framework\\dtypes.py:525: FutureWarning: Passing (type, 1) or '1type' as a synonym of type is deprecated; in a future version of numpy, it will be understood as (type, (1,)) / '(1,)type'.\n",
      "  _np_qint16 = np.dtype([(\"qint16\", np.int16, 1)])\n",
      "e:\\python 3.7.6\\lib\\site-packages\\tensorflow\\python\\framework\\dtypes.py:526: FutureWarning: Passing (type, 1) or '1type' as a synonym of type is deprecated; in a future version of numpy, it will be understood as (type, (1,)) / '(1,)type'.\n",
      "  _np_quint16 = np.dtype([(\"quint16\", np.uint16, 1)])\n",
      "e:\\python 3.7.6\\lib\\site-packages\\tensorflow\\python\\framework\\dtypes.py:527: FutureWarning: Passing (type, 1) or '1type' as a synonym of type is deprecated; in a future version of numpy, it will be understood as (type, (1,)) / '(1,)type'.\n",
      "  _np_qint32 = np.dtype([(\"qint32\", np.int32, 1)])\n",
      "e:\\python 3.7.6\\lib\\site-packages\\tensorflow\\python\\framework\\dtypes.py:532: FutureWarning: Passing (type, 1) or '1type' as a synonym of type is deprecated; in a future version of numpy, it will be understood as (type, (1,)) / '(1,)type'.\n",
      "  np_resource = np.dtype([(\"resource\", np.ubyte, 1)])\n"
     ]
    }
   ],
   "source": [
    "import numpy as np\n",
    "import pandas as pd\n",
    "import tensorflow as tf\n",
    "from tensorflow import feature_column\n",
    "from tensorflow.keras import layers\n",
    "import matplotlib.pyplot as plt\n",
    "\n",
    "pd.options.display.max_rows=10\n",
    "pd.options.display.float_format=\"{:.1f}\".format\n",
    "tf.keras.backend.set_floatx('float32')"
   ]
  },
  {
   "cell_type": "code",
   "execution_count": 3,
   "metadata": {},
   "outputs": [],
   "source": [
    "train_df=pd.read_csv(\"https://download.mlcc.google.com/mledu-datasets/california_housing_train.csv\")\n",
    "test_df=pd.read_csv(\"https://download.mlcc.google.com/mledu-datasets/california_housing_test.csv\")\n",
    "\n",
    "scale_factor=1000.0\n",
    "\n",
    "train_df[\"median_house_value\"]/=scale_factor\n",
    "test_df[\"median_house_value\"]/=scale_factor\n",
    "train_df=train_df.reindex(np.random.permutation(train_df.index))"
   ]
  },
  {
   "cell_type": "code",
   "execution_count": 4,
   "metadata": {},
   "outputs": [],
   "source": [
    "feature_columns=[]\n",
    "latitude=tf.feature_column.numeric_column(\"latitude\")\n",
    "feature_columns.append(latitude)\n",
    "\n",
    "longitude=tf.feature_column.numeric_column(\"longitude\")\n",
    "feature_columns.append(longitude)\n",
    "\n",
    "fp_feature_layer=layers.DenseFeatures(feature_columns)"
   ]
  },
  {
   "cell_type": "code",
   "execution_count": 5,
   "metadata": {},
   "outputs": [
    {
     "name": "stdout",
     "output_type": "stream",
     "text": [
      "Defined the create_model, train_model, and plot_the_loss_curve functions.\n"
     ]
    }
   ],
   "source": [
    "#@title Define functions to create and train a model, and a plotting function\n",
    "def create_model(my_learning_rate, feature_layer):\n",
    "    model = tf.keras.models.Sequential()\n",
    "    model.add(feature_layer)\n",
    "    model.add(tf.keras.layers.Dense(units=1, input_shape=(1,)))\n",
    "    model.compile(optimizer=tf.keras.optimizers.RMSprop(lr=my_learning_rate),\n",
    "                  loss=\"mean_squared_error\",\n",
    "                  metrics=[tf.keras.metrics.RootMeanSquaredError()])\n",
    "\n",
    "    return model           \n",
    "\n",
    "\n",
    "def train_model(model, dataset, epochs, batch_size, label_name):\n",
    "    features = {name:np.array(value) for name, value in dataset.items()}\n",
    "    label = np.array(features.pop(label_name))\n",
    "    history = model.fit(x=features, y=label, batch_size=batch_size,\n",
    "                        epochs=epochs, shuffle=True)\n",
    "    epochs = history.epoch\n",
    "    hist = pd.DataFrame(history.history)\n",
    "    rmse = hist[\"root_mean_squared_error\"]\n",
    "\n",
    "    return epochs, rmse   \n",
    "\n",
    "\n",
    "def plot_the_loss_curve(epochs, rmse):\n",
    "    plt.figure()\n",
    "    plt.xlabel(\"Epoch\")\n",
    "    plt.ylabel(\"Root Mean Squared Error\")\n",
    "    plt.plot(epochs, rmse, label=\"Loss\")\n",
    "    plt.legend()\n",
    "    plt.ylim([rmse.min()*0.94, rmse.max()* 1.05])\n",
    "    plt.show()  \n",
    "\n",
    "print(\"Defined the create_model, train_model, and plot_the_loss_curve functions.\")"
   ]
  },
  {
   "cell_type": "code",
   "execution_count": 6,
   "metadata": {},
   "outputs": [
    {
     "name": "stdout",
     "output_type": "stream",
     "text": [
      "WARNING:tensorflow:From e:\\python 3.7.6\\lib\\site-packages\\tensorflow\\python\\feature_column\\feature_column_v2.py:2758: to_float (from tensorflow.python.ops.math_ops) is deprecated and will be removed in a future version.\n",
      "Instructions for updating:\n",
      "Use `tf.cast` instead.\n",
      "Epoch 1/30\n",
      "17000/17000 [==============================] - 5s 310us/sample - loss: 15288.3422 - root_mean_squared_error: 123.6460s - loss: 15607.7977 - root_mean_squared_error:\n",
      "Epoch 2/30\n",
      "17000/17000 [==============================] - 3s 184us/sample - loss: 13455.1940 - root_mean_squared_error: 115.9965\n",
      "Epoch 3/30\n",
      "17000/17000 [==============================] - 3s 161us/sample - loss: 13400.6130 - root_mean_squared_error: 115.7610s - loss: 13399.5595 - root_mean_squared_error: 115.\n",
      "Epoch 4/30\n",
      "17000/17000 [==============================] - 3s 151us/sample - loss: 13345.0951 - root_mean_squared_error: 115.5210\n",
      "Epoch 5/30\n",
      "17000/17000 [==============================] - 4s 236us/sample - loss: 13302.2191 - root_mean_squared_error: 115.3353\n",
      "Epoch 6/30\n",
      "17000/17000 [==============================] - 3s 154us/sample - loss: 13262.5419 - root_mean_squared_error: 115.1631\n",
      "Epoch 7/30\n",
      "17000/17000 [==============================] - 5s 269us/sample - loss: 13220.1700 - root_mean_squared_error: 114.9790\n",
      "Epoch 8/30\n",
      "17000/17000 [==============================] - 4s 246us/sample - loss: 13188.3520 - root_mean_squared_error: 114.8406\n",
      "Epoch 9/30\n",
      "17000/17000 [==============================] - 3s 159us/sample - loss: 13173.6469 - root_mean_squared_error: 114.7765s - loss: 13154.8783 - root_mean_squa\n",
      "Epoch 10/30\n",
      "17000/17000 [==============================] - 3s 178us/sample - loss: 13132.5863 - root_mean_squared_error: 114.5975\n",
      "Epoch 11/30\n",
      "17000/17000 [==============================] - 3s 164us/sample - loss: 13117.4381 - root_mean_squared_error: 114.5314\n",
      "Epoch 12/30\n",
      "17000/17000 [==============================] - 3s 164us/sample - loss: 13088.2122 - root_mean_squared_error: 114.4037\n",
      "Epoch 13/30\n",
      "17000/17000 [==============================] - 3s 196us/sample - loss: 13076.1387 - root_mean_squared_error: 114.3510\n",
      "Epoch 14/30\n",
      "17000/17000 [==============================] - 3s 167us/sample - loss: 13046.9096 - root_mean_squared_error: 114.2230s - loss: 13115.8772 - root_mean_squared_error: - ETA: 0s - loss: 13066.2073 - root_mean_squared_error: 114.30\n",
      "Epoch 15/30\n",
      "17000/17000 [==============================] - 4s 207us/sample - loss: 13012.9979 - root_mean_squared_error: 114.0745s - loss: 13169.0025 - roo\n",
      "Epoch 16/30\n",
      "17000/17000 [==============================] - 3s 164us/sample - loss: 13022.1434 - root_mean_squared_error: 114.1146\n",
      "Epoch 17/30\n",
      "17000/17000 [==============================] - 3s 176us/sample - loss: 12988.7570 - root_mean_squared_error: 113.9683\n",
      "Epoch 18/30\n",
      "17000/17000 [==============================] - 4s 226us/sample - loss: 12963.4688 - root_mean_squared_error: 113.8572\n",
      "Epoch 19/30\n",
      "17000/17000 [==============================] - 4s 263us/sample - loss: 12964.2999 - root_mean_squared_error: 113.8609\n",
      "Epoch 20/30\n",
      "17000/17000 [==============================] - 4s 237us/sample - loss: 12934.6651 - root_mean_squared_error: 113.7307\n",
      "Epoch 21/30\n",
      "17000/17000 [==============================] - 3s 180us/sample - loss: 12926.2272 - root_mean_squared_error: 113.6936s - loss: 12647.2810 - root_mean_squared_error: 112. - ETA: 2s - loss: 12628.3548\n",
      "Epoch 22/30\n",
      "17000/17000 [==============================] - 3s 161us/sample - loss: 12910.9620 - root_mean_squared_error: 113.6264\n",
      "Epoch 23/30\n",
      "17000/17000 [==============================] - 3s 173us/sample - loss: 12907.2559 - root_mean_squared_error: 113.6101\n",
      "Epoch 24/30\n",
      "17000/17000 [==============================] - 3s 163us/sample - loss: 12878.2657 - root_mean_squared_error: 113.4825\n",
      "Epoch 25/30\n",
      "17000/17000 [==============================] - 3s 163us/sample - loss: 12865.5743 - root_mean_squared_error: 113.4265s - loss: 12812.2224 - root_mean_squared_error: 1\n",
      "Epoch 26/30\n",
      "17000/17000 [==============================] - 4s 223us/sample - loss: 12865.5786 - root_mean_squared_error: 113.4265\n",
      "Epoch 27/30\n",
      "17000/17000 [==============================] - 3s 163us/sample - loss: 12849.6474 - root_mean_squared_error: 113.3563s - loss: 12830.9831 - root_mean_squ\n",
      "Epoch 28/30\n",
      "17000/17000 [==============================] - 3s 192us/sample - loss: 12862.8476 - root_mean_squared_error: 113.4145\n",
      "Epoch 29/30\n",
      "17000/17000 [==============================] - 4s 251us/sample - loss: 12847.7355 - root_mean_squared_error: 113.3479- lo - ETA: 1s - loss: 12681.7267 - root_me\n",
      "Epoch 30/30\n",
      "17000/17000 [==============================] - 4s 215us/sample - loss: 12829.8484 - root_mean_squared_error: 113.2689\n"
     ]
    },
    {
     "data": {
      "image/png": "[encoded data removed]",
      "text/plain": [
       "<Figure size 432x288 with 1 Axes>"
      ]
     },
     "metadata": {
      "needs_background": "light"
     },
     "output_type": "display_data"
    },
    {
     "name": "stdout",
     "output_type": "stream",
     "text": [
      "\n",
      ": Evaluate the new model against the test set:\n",
      "3000/3000 [==============================] - 1s 183us/sample - loss: 12174.5736 - root_mean_squared_error: 110.3384\n"
     ]
    },
    {
     "data": {
      "text/plain": [
       "[12174.573551432291, 110.33845]"
      ]
     },
     "execution_count": 6,
     "metadata": {},
     "output_type": "execute_result"
    }
   ],
   "source": [
    "learning_rate = 0.05\n",
    "epochs = 30\n",
    "batch_size = 100\n",
    "label_name = 'median_house_value'\n",
    "\n",
    "# Create and compile the model's topography.\n",
    "my_model = create_model(learning_rate, fp_feature_layer)\n",
    "\n",
    "# Train the model on the training set.\n",
    "epochs, rmse = train_model(my_model, train_df, epochs, batch_size, label_name)\n",
    "\n",
    "plot_the_loss_curve(epochs, rmse)\n",
    "\n",
    "print(\"\\n: Evaluate the new model against the test set:\")\n",
    "test_features = {name:np.array(value) for name, value in test_df.items()}\n",
    "test_label = np.array(test_features.pop(label_name))\n",
    "my_model.evaluate(x=test_features, y=test_label, batch_size=batch_size)"
   ]
  },
  {
   "cell_type": "code",
   "execution_count": 11,
   "metadata": {},
   "outputs": [],
   "source": [
    "resolution_in_degrees=1.0\n",
    "\n",
    "feature_columns=[]\n",
    "\n",
    "latitude_as_a_numeric_column=tf.feature_column.numeric_column(\"latitude\")\n",
    "latitude_boundaries=list(np.arange(int(min(train_df['latitude'])),\n",
    "                                  int(max(train_df['latitude'])),\n",
    "                                  resolution_in_degrees))\n",
    "latitude=tf.feature_column.bucketized_column(latitude_as_a_numeric_column, latitude_boundaries)\n",
    "feature_columns.append(latitude)\n",
    "\n",
    "#Bucket feature column for longitude.\n",
    "longitude_as_a_numeric_column=tf.feature_column.numeric_column(\"longitude\")\n",
    "longitude_boundaries = list(np.arange(int(min(train_df['longitude'])), \n",
    "                                      int(max(train_df['longitude'])), \n",
    "                                      resolution_in_degrees))\n",
    "longitude=tf.feature_column.bucketized_column(longitude_as_a_numeric_column, longitude_boundaries)\n",
    "\n",
    "feature_columns.append(longitude)\n",
    "\n",
    "buckets_feature_layer=layers.DenseFeatures(feature_columns)"
   ]
  },
  {
   "cell_type": "code",
   "execution_count": 12,
   "metadata": {},
   "outputs": [
    {
     "name": "stdout",
     "output_type": "stream",
     "text": [
      "WARNING:tensorflow:From e:\\python 3.7.6\\lib\\site-packages\\tensorflow\\python\\feature_column\\feature_column_v2.py:2902: to_int64 (from tensorflow.python.ops.math_ops) is deprecated and will be removed in a future version.\n",
      "Instructions for updating:\n",
      "Use `tf.cast` instead.\n",
      "Epoch 1/35\n",
      "17000/17000 [==============================] - 3s 190us/sample - loss: 52134.1281 - root_mean_squared_error: 228.3290s - loss: 54907.9702 - root_mean_squ - ETA: 1s - loss: 53742.5459 - root_mean_squa\n",
      "Epoch 2/35\n",
      "17000/17000 [==============================] - 4s 215us/sample - loss: 44721.4107 - root_mean_squared_error: 211.4743\n",
      "Epoch 3/35\n",
      "17000/17000 [==============================] - 3s 165us/sample - loss: 38137.3601 - root_mean_squared_error: 195.2879s - loss: 39877.2648 - root_mean_squar - ETA: 0s - loss: 38779.8845 - root_mean_squared_error:\n",
      "Epoch 4/35\n",
      "17000/17000 [==============================] - 5s 282us/sample - loss: 32317.7353 - root_mean_squared_error: 179.7714\n",
      "Epoch 5/35\n",
      "17000/17000 [==============================] - 5s 322us/sample - loss: 27303.9446 - root_mean_squared_error: 165.2391\n",
      "Epoch 6/35\n",
      "17000/17000 [==============================] - 6s 370us/sample - loss: 23042.3856 - root_mean_squared_error: 151.7972s - loss: 23140.0306 - root_mean_squared_error: 152.118 - ETA: 0s - loss: 23114.4800 - root_mean_squared_error: 152\n",
      "Epoch 7/35\n",
      "17000/17000 [==============================] - 6s 342us/sample - loss: 19524.9986 - root_mean_squared_error: 139.7319\n",
      "Epoch 8/35\n",
      "17000/17000 [==============================] - 6s 336us/sample - loss: 16711.4806 - root_mean_squared_error: 129.2729\n",
      "Epoch 9/35\n",
      "17000/17000 [==============================] - 6s 350us/sample - loss: 14534.1193 - root_mean_squared_error: 120.5575\n",
      "Epoch 10/35\n",
      "17000/17000 [==============================] - 5s 286us/sample - loss: 12978.8227 - root_mean_squared_error: 113.9246\n",
      "Epoch 11/35\n",
      "17000/17000 [==============================] - 3s 164us/sample - loss: 11959.9484 - root_mean_squared_error: 109.3615\n",
      "Epoch 12/35\n",
      "17000/17000 [==============================] - 4s 208us/sample - loss: 11326.0097 - root_mean_squared_error: 106.4237\n",
      "Epoch 13/35\n",
      "17000/17000 [==============================] - 6s 339us/sample - loss: 10983.5120 - root_mean_squared_error: 104.8022\n",
      "Epoch 14/35\n",
      "17000/17000 [==============================] - 5s 302us/sample - loss: 10792.0957 - root_mean_squared_error: 103.8850\n",
      "Epoch 15/35\n",
      "17000/17000 [==============================] - 4s 242us/sample - loss: 10674.8069 - root_mean_squared_error: 103.3190s - loss: 10\n",
      "Epoch 16/35\n",
      "17000/17000 [==============================] - 3s 173us/sample - loss: 10600.4873 - root_mean_squared_error: 102.9587\n",
      "Epoch 17/35\n",
      "17000/17000 [==============================] - 3s 196us/sample - loss: 10551.0025 - root_mean_squared_error: 102.7181s - loss: 10640.3308 - root_mean_sq\n",
      "Epoch 18/35\n",
      "17000/17000 [==============================] - 3s 178us/sample - loss: 10517.3252 - root_mean_squared_error: 102.5540\n",
      "Epoch 19/35\n",
      "17000/17000 [==============================] - 3s 174us/sample - loss: 10494.8187 - root_mean_squared_error: 102.4442\n",
      "Epoch 20/35\n",
      "17000/17000 [==============================] - 4s 227us/sample - loss: 10476.1616 - root_mean_squared_error: 102.3531s - loss: 10459.8402 - root_mean_squared_error: 10\n",
      "Epoch 21/35\n",
      "17000/17000 [==============================] - 5s 296us/sample - loss: 10460.9125 - root_mean_squared_error: 102.2786\n",
      "Epoch 22/35\n",
      "17000/17000 [==============================] - 4s 261us/sample - loss: 10448.0749 - root_mean_squared_error: 102.2158s - l\n",
      "Epoch 23/35\n",
      "17000/17000 [==============================] - 3s 189us/sample - loss: 10437.3254 - root_mean_squared_error: 102.1632s - loss: 10530.2348 - root_mean_squared_error: 10 - ETA: 1s - loss: 10540.9778 - r\n",
      "Epoch 24/35\n",
      "17000/17000 [==============================] - 4s 215us/sample - loss: 10426.7180 - root_mean_squared_error: 102.1113s - loss: 10143.9218 - root_mean_squared_error: 100. - ETA: 3s - loss: 10287. - ETA: 0s - loss: 10512.0077 - root_mean_squared_error: 102 - ETA: 0s - loss: 10470.5475 - root_mean_squared_error: 10\n",
      "Epoch 25/35\n",
      "17000/17000 [==============================] - 3s 204us/sample - loss: 10416.6479 - root_mean_squared_error: 102.0620s - loss: 10483.1002 - root_mean_squared_error: 102.387 - ETA: 1s - loss: 10484.6952 - root\n",
      "Epoch 26/35\n",
      "17000/17000 [==============================] - 4s 211us/sample - loss: 10407.4154 - root_mean_squared_error: 102.0168s - loss: 10382.1124 - root_mean_squared_err\n",
      "Epoch 27/35\n",
      "17000/17000 [==============================] - 3s 178us/sample - loss: 10398.7295 - root_mean_squared_error: 101.9742\n",
      "Epoch 28/35\n",
      "17000/17000 [==============================] - 3s 183us/sample - loss: 10390.6212 - root_mean_squared_error: 101.9344\n",
      "Epoch 29/35\n",
      "17000/17000 [==============================] - 5s 275us/sample - loss: 10383.1150 - root_mean_squared_error: 101.8976s - loss: 10554.4980 - root_mean_squared_erro - ETA: 2s - l\n",
      "Epoch 30/35\n",
      "17000/17000 [==============================] - 4s 255us/sample - loss: 10375.5711 - root_mean_squared_error: 101.8605\n",
      "Epoch 31/35\n",
      "17000/17000 [==============================] - 4s 237us/sample - loss: 10367.9407 - root_mean_squared_error: 101.8231\n",
      "Epoch 32/35\n",
      "17000/17000 [==============================] - 5s 266us/sample - loss: 10360.8246 - root_mean_squared_error: 101.7881\n",
      "Epoch 33/35\n",
      "17000/17000 [==============================] - 6s 342us/sample - loss: 10353.7070 - root_mean_squared_error: 101.7532\n",
      "Epoch 34/35\n",
      "17000/17000 [==============================] - 6s 347us/sample - loss: 10346.6441 - root_mean_squared_error: 101.7184\n",
      "Epoch 35/35\n",
      "17000/17000 [==============================] - 6s 328us/sample - loss: 10340.2555 - root_mean_squared_error: 101.6870\n"
     ]
    },
    {
     "data": {
      "image/png": "[encoded data removed]",
      "text/plain": [
       "<Figure size 432x288 with 1 Axes>"
      ]
     },
     "metadata": {
      "needs_background": "light"
     },
     "output_type": "display_data"
    },
    {
     "name": "stdout",
     "output_type": "stream",
     "text": [
      "\n",
      ": Evaluate the new model against the test set:\n",
      "3000/3000 [==============================] - 1s 168us/sample - loss: 10198.4337 - root_mean_squared_error: 100.9873\n"
     ]
    },
    {
     "data": {
      "text/plain": [
       "[10198.433675130209, 100.9873]"
      ]
     },
     "execution_count": 12,
     "metadata": {},
     "output_type": "execute_result"
    }
   ],
   "source": [
    "learning_rate=0.04\n",
    "epochs=35\n",
    "\n",
    "my_model=create_model(learning_rate, buckets_feature_layer)\n",
    "\n",
    "epochs, rmse = train_model(my_model, train_df, epochs, batch_size, label_name)\n",
    "plot_the_loss_curve(epochs, rmse)\n",
    "print(\"\\n: Evaluate the new model against the test set:\")\n",
    "my_model.evaluate(x=test_features, y=test_label, batch_size=batch_size)"
   ]
  },
  {
   "cell_type": "code",
   "execution_count": 13,
   "metadata": {},
   "outputs": [],
   "source": [
    "#Representing Location as a Featrue Cross.\n",
    "reolution_in_degrees=1.0\n",
    "\n",
    "feature__columns=[]\n",
    "\n",
    "latitude_as_a_numeric_column = tf.feature_column.numeric_column(\"latitude\")\n",
    "latitude_boundaries = list(np.arange(int(min(train_df['latitude'])), int(max(train_df['latitude'])), resolution_in_degrees))\n",
    "latitude = tf.feature_column.bucketized_column(latitude_as_a_numeric_column, latitude_boundaries)\n",
    "\n",
    "longitude_as_a_numeric_column = tf.feature_column.numeric_column(\"longitude\")\n",
    "longitude_boundaries = list(np.arange(int(min(train_df['longitude'])), int(max(train_df['longitude'])), resolution_in_degrees))\n",
    "longitude = tf.feature_column.bucketized_column(longitude_as_a_numeric_column, longitude_boundaries)\n",
    "\n",
    "latitude_x_longitude=tf.feature_column.crossed_column([latitude, longitude], hash_bucket_size=100)\n",
    "crossed_feature=tf.feature_column.indicator_column(latitude_x_longitude)\n",
    "feature_columns.append(crossed_feature)\n",
    "\n",
    "feature_cross_feature_layer=layers.DenseFeatures(feature_columns)"
   ]
  },
  {
   "cell_type": "code",
   "execution_count": 14,
   "metadata": {},
   "outputs": [
    {
     "name": "stdout",
     "output_type": "stream",
     "text": [
      "WARNING:tensorflow:From e:\\python 3.7.6\\lib\\site-packages\\tensorflow\\python\\feature_column\\feature_column_v2.py:4307: IndicatorColumn._variable_shape (from tensorflow.python.feature_column.feature_column_v2) is deprecated and will be removed in a future version.\n",
      "Instructions for updating:\n",
      "The old _FeatureColumn APIs are being deprecated. Please use the new FeatureColumn APIs instead.\n",
      "WARNING:tensorflow:From e:\\python 3.7.6\\lib\\site-packages\\tensorflow\\python\\feature_column\\feature_column_v2.py:4362: CrossedColumn._num_buckets (from tensorflow.python.feature_column.feature_column_v2) is deprecated and will be removed in a future version.\n",
      "Instructions for updating:\n",
      "The old _FeatureColumn APIs are being deprecated. Please use the new FeatureColumn APIs instead.\n",
      "Epoch 1/35\n",
      "17000/17000 [==============================] - 8s 469us/sample - loss: 50756.4654 - root_mean_squared_error: 225.2920\n",
      "Epoch 2/35\n",
      "17000/17000 [==============================] - 9s 505us/sample - loss: 41409.2334 - root_mean_squared_error: 203.4925\n",
      "Epoch 3/35\n",
      "17000/17000 [==============================] - 6s 347us/sample - loss: 33436.3848 - root_mean_squared_error: 182.8562\n",
      "Epoch 4/35\n",
      "17000/17000 [==============================] - 8s 455us/sample - loss: 26768.3052 - root_mean_squared_error: 163.6102\n",
      "Epoch 5/35\n",
      "17000/17000 [==============================] - 8s 482us/sample - loss: 21413.9648 - root_mean_squared_error: 146.3351\n",
      "Epoch 6/35\n",
      "17000/17000 [==============================] - 7s 401us/sample - loss: 17229.1347 - root_mean_squared_error: 131.2598s  - ETA: 3s - loss: 1796\n",
      "Epoch 7/35\n",
      "17000/17000 [==============================] - 4s 253us/sample - loss: 14183.7992 - root_mean_squared_error: 119.0957\n",
      "Epoch 8/35\n",
      "17000/17000 [==============================] - 4s 261us/sample - loss: 12081.1292 - root_mean_squared_error: 109.9142\n",
      "Epoch 9/35\n",
      "17000/17000 [==============================] - 7s 388us/sample - loss: 10841.1161 - root_mean_squared_error: 104.1207\n",
      "Epoch 10/35\n",
      "17000/17000 [==============================] - 8s 460us/sample - loss: 10185.8482 - root_mean_squared_error: 100.9250\n",
      "Epoch 11/35\n",
      "17000/17000 [==============================] - 7s 397us/sample - loss: 9860.1910 - root_mean_squared_error: 99.2985\n",
      "Epoch 12/35\n",
      "17000/17000 [==============================] - 6s 368us/sample - loss: 9688.1781 - root_mean_squared_error: 98.4285\n",
      "Epoch 13/35\n",
      "17000/17000 [==============================] - 4s 237us/sample - loss: 9587.2682 - root_mean_squared_error: 97.9146s - loss: 9\n",
      "Epoch 14/35\n",
      "17000/17000 [==============================] - 4s 234us/sample - loss: 9518.3401 - root_mean_squared_error: 97.5620s - loss: 9470.3583 - root_mean_square\n",
      "Epoch 15/35\n",
      "17000/17000 [==============================] - 4s 231us/sample - loss: 9468.2203 - root_mean_squared_error: 97.3048\n",
      "Epoch 16/35\n",
      "17000/17000 [==============================] - 4s 230us/sample - loss: 9428.3752 - root_mean_squared_error: 97.0998\n",
      "Epoch 17/35\n",
      "17000/17000 [==============================] - 4s 228us/sample - loss: 9399.2754 - root_mean_squared_error: 96.9499\n",
      "Epoch 18/35\n",
      "17000/17000 [==============================] - 4s 240us/sample - loss: 9376.4921 - root_mean_squared_error: 96.8323\n",
      "Epoch 19/35\n",
      "17000/17000 [==============================] - 6s 374us/sample - loss: 9358.1405 - root_mean_squared_error: 96.7375\n",
      "Epoch 20/35\n",
      "17000/17000 [==============================] - 5s 302us/sample - loss: 9343.5176 - root_mean_squared_error: 96.6618\n",
      "Epoch 21/35\n",
      "17000/17000 [==============================] - 5s 294us/sample - loss: 9332.1157 - root_mean_squared_error: 96.6029\n",
      "Epoch 22/35\n",
      "17000/17000 [==============================] - 4s 229us/sample - loss: 9322.8852 - root_mean_squared_error: 96.5551s - loss: 9183.7942 - root_mean_squ\n",
      "Epoch 23/35\n",
      "17000/17000 [==============================] - 4s 234us/sample - loss: 9314.9671 - root_mean_squared_error: 96.5141s - loss\n",
      "Epoch 24/35\n",
      "17000/17000 [==============================] - 7s 412us/sample - loss: 9307.9968 - root_mean_squared_error: 96.4780\n",
      "Epoch 25/35\n",
      "17000/17000 [==============================] - 9s 528us/sample - loss: 9302.9791 - root_mean_squared_error: 96.4520\n",
      "Epoch 26/35\n",
      "17000/17000 [==============================] - 8s 462us/sample - loss: 9298.2578 - root_mean_squared_error: 96.4275\n",
      "Epoch 27/35\n",
      "17000/17000 [==============================] - 8s 448us/sample - loss: 9294.3039 - root_mean_squared_error: 96.4070\n",
      "Epoch 28/35\n",
      "17000/17000 [==============================] - 9s 534us/sample - loss: 9291.6765 - root_mean_squared_error: 96.3933\n",
      "Epoch 29/35\n",
      "17000/17000 [==============================] - 7s 413us/sample - loss: 9288.6716 - root_mean_squared_error: 96.3777\n",
      "Epoch 30/35\n",
      "17000/17000 [==============================] - 6s 333us/sample - loss: 9286.3406 - root_mean_squared_error: 96.3657\n",
      "Epoch 31/35\n",
      "17000/17000 [==============================] - 6s 355us/sample - loss: 9284.4437 - root_mean_squared_error: 96.3558\n",
      "Epoch 32/35\n",
      "17000/17000 [==============================] - 5s 316us/sample - loss: 9283.0090 - root_mean_squared_error: 96.3484\n",
      "Epoch 33/35\n",
      "17000/17000 [==============================] - 6s 344us/sample - loss: 9281.0102 - root_mean_squared_error: 96.3380\n",
      "Epoch 34/35\n",
      "17000/17000 [==============================] - 6s 359us/sample - loss: 9280.0005 - root_mean_squared_error: 96.3328\n",
      "Epoch 35/35\n",
      "17000/17000 [==============================] - 9s 546us/sample - loss: 9278.5752 - root_mean_squared_error: 96.3253\n"
     ]
    },
    {
     "data": {
      "image/png": "[encoded data removed]",
      "text/plain": [
       "<Figure size 432x288 with 1 Axes>"
      ]
     },
     "metadata": {
      "needs_background": "light"
     },
     "output_type": "display_data"
    },
    {
     "name": "stdout",
     "output_type": "stream",
     "text": [
      "\n",
      ": Evaluate the new model against the test set:\n",
      "3000/3000 [==============================] - 1s 221us/sample - loss: 9101.7171 - root_mean_squared_error: 95.4029\n"
     ]
    },
    {
     "data": {
      "text/plain": [
       "[9101.717057291668, 95.402916]"
      ]
     },
     "execution_count": 14,
     "metadata": {},
     "output_type": "execute_result"
    }
   ],
   "source": [
    "learning_rate=0.04\n",
    "epochs=35\n",
    "\n",
    "my_model=create_model(learning_rate, feature_cross_feature_layer)\n",
    "\n",
    "epochs, rmse=train_model(my_model, train_df, epochs, batch_size, label_name)\n",
    "\n",
    "plot_the_loss_curve(epochs, rmse)\n",
    "\n",
    "print(\"\\n: Evaluate the new model against the test set:\")\n",
    "my_model.evaluate(x=test_features, y=test_label, batch_size=batch_size)"
   ]
  }
 ],
 "metadata": {
  "kernelspec": {
   "display_name": "Python 3",
   "language": "python",
   "name": "python3"
  },
  "language_info": {
   "codemirror_mode": {
    "name": "ipython",
    "version": 3
   },
   "file_extension": ".py",
   "mimetype": "text/x-python",
   "name": "python",
   "nbconvert_exporter": "python",
   "pygments_lexer": "ipython3",
   "version": "3.7.6"
  }
 },
 "nbformat": 4,
 "nbformat_minor": 4
}
