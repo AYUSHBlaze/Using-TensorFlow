{
 "cells": [
  {
   "cell_type": "code",
   "execution_count": 13,
   "metadata": {},
   "outputs": [],
   "source": [
    "import tensorflow as tf\n",
    "import pandas as pd\n",
    "import numpy as np"
   ]
  },
  {
   "cell_type": "code",
   "execution_count": 3,
   "metadata": {},
   "outputs": [],
   "source": [
    "CSV_COLUMN_NAMES=['SepalLength', 'SepalWidth', 'PetalLength', 'PetalWidth', 'Species']\n",
    "SPECIES=['Setosa', 'Versicolor', 'Virginica']"
   ]
  },
  {
   "cell_type": "code",
   "execution_count": 4,
   "metadata": {},
   "outputs": [],
   "source": [
    "train=pd.read_csv(\"E:\\Machine learning\\Datasets\\iris_training.csv\", names=CSV_COLUMN_NAMES, header=0)\n",
    "test=pd.read_csv(\"E:\\Machine learning\\Datasets\\iris_test.csv\", names=CSV_COLUMN_NAMES, header=0)"
   ]
  },
  {
   "cell_type": "code",
   "execution_count": 5,
   "metadata": {},
   "outputs": [
    {
     "data": {
      "text/html": [
       "<div>\n",
       "<style scoped>\n",
       "    .dataframe tbody tr th:only-of-type {\n",
       "        vertical-align: middle;\n",
       "    }\n",
       "\n",
       "    .dataframe tbody tr th {\n",
       "        vertical-align: top;\n",
       "    }\n",
       "\n",
       "    .dataframe thead th {\n",
       "        text-align: right;\n",
       "    }\n",
       "</style>\n",
       "<table border=\"1\" class=\"dataframe\">\n",
       "  <thead>\n",
       "    <tr style=\"text-align: right;\">\n",
       "      <th></th>\n",
       "      <th>SepalLength</th>\n",
       "      <th>SepalWidth</th>\n",
       "      <th>PetalLength</th>\n",
       "      <th>PetalWidth</th>\n",
       "      <th>Species</th>\n",
       "    </tr>\n",
       "  </thead>\n",
       "  <tbody>\n",
       "    <tr>\n",
       "      <th>0</th>\n",
       "      <td>6.4</td>\n",
       "      <td>2.8</td>\n",
       "      <td>5.6</td>\n",
       "      <td>2.2</td>\n",
       "      <td>2</td>\n",
       "    </tr>\n",
       "    <tr>\n",
       "      <th>1</th>\n",
       "      <td>5.0</td>\n",
       "      <td>2.3</td>\n",
       "      <td>3.3</td>\n",
       "      <td>1.0</td>\n",
       "      <td>1</td>\n",
       "    </tr>\n",
       "    <tr>\n",
       "      <th>2</th>\n",
       "      <td>4.9</td>\n",
       "      <td>2.5</td>\n",
       "      <td>4.5</td>\n",
       "      <td>1.7</td>\n",
       "      <td>2</td>\n",
       "    </tr>\n",
       "    <tr>\n",
       "      <th>3</th>\n",
       "      <td>4.9</td>\n",
       "      <td>3.1</td>\n",
       "      <td>1.5</td>\n",
       "      <td>0.1</td>\n",
       "      <td>0</td>\n",
       "    </tr>\n",
       "    <tr>\n",
       "      <th>4</th>\n",
       "      <td>5.7</td>\n",
       "      <td>3.8</td>\n",
       "      <td>1.7</td>\n",
       "      <td>0.3</td>\n",
       "      <td>0</td>\n",
       "    </tr>\n",
       "  </tbody>\n",
       "</table>\n",
       "</div>"
      ],
      "text/plain": [
       "   SepalLength  SepalWidth  PetalLength  PetalWidth  Species\n",
       "0          6.4         2.8          5.6         2.2        2\n",
       "1          5.0         2.3          3.3         1.0        1\n",
       "2          4.9         2.5          4.5         1.7        2\n",
       "3          4.9         3.1          1.5         0.1        0\n",
       "4          5.7         3.8          1.7         0.3        0"
      ]
     },
     "execution_count": 5,
     "metadata": {},
     "output_type": "execute_result"
    }
   ],
   "source": [
    "train.head()"
   ]
  },
  {
   "cell_type": "code",
   "execution_count": 6,
   "metadata": {},
   "outputs": [],
   "source": [
    "train_y=train.pop('Species')\n",
    "test_y=test.pop('Species')"
   ]
  },
  {
   "cell_type": "code",
   "execution_count": 10,
   "metadata": {},
   "outputs": [
    {
     "data": {
      "text/html": [
       "<div>\n",
       "<style scoped>\n",
       "    .dataframe tbody tr th:only-of-type {\n",
       "        vertical-align: middle;\n",
       "    }\n",
       "\n",
       "    .dataframe tbody tr th {\n",
       "        vertical-align: top;\n",
       "    }\n",
       "\n",
       "    .dataframe thead th {\n",
       "        text-align: right;\n",
       "    }\n",
       "</style>\n",
       "<table border=\"1\" class=\"dataframe\">\n",
       "  <thead>\n",
       "    <tr style=\"text-align: right;\">\n",
       "      <th></th>\n",
       "      <th>SepalLength</th>\n",
       "      <th>SepalWidth</th>\n",
       "      <th>PetalLength</th>\n",
       "      <th>PetalWidth</th>\n",
       "    </tr>\n",
       "  </thead>\n",
       "  <tbody>\n",
       "    <tr>\n",
       "      <th>0</th>\n",
       "      <td>6.4</td>\n",
       "      <td>2.8</td>\n",
       "      <td>5.6</td>\n",
       "      <td>2.2</td>\n",
       "    </tr>\n",
       "    <tr>\n",
       "      <th>1</th>\n",
       "      <td>5.0</td>\n",
       "      <td>2.3</td>\n",
       "      <td>3.3</td>\n",
       "      <td>1.0</td>\n",
       "    </tr>\n",
       "    <tr>\n",
       "      <th>2</th>\n",
       "      <td>4.9</td>\n",
       "      <td>2.5</td>\n",
       "      <td>4.5</td>\n",
       "      <td>1.7</td>\n",
       "    </tr>\n",
       "    <tr>\n",
       "      <th>3</th>\n",
       "      <td>4.9</td>\n",
       "      <td>3.1</td>\n",
       "      <td>1.5</td>\n",
       "      <td>0.1</td>\n",
       "    </tr>\n",
       "    <tr>\n",
       "      <th>4</th>\n",
       "      <td>5.7</td>\n",
       "      <td>3.8</td>\n",
       "      <td>1.7</td>\n",
       "      <td>0.3</td>\n",
       "    </tr>\n",
       "  </tbody>\n",
       "</table>\n",
       "</div>"
      ],
      "text/plain": [
       "   SepalLength  SepalWidth  PetalLength  PetalWidth\n",
       "0          6.4         2.8          5.6         2.2\n",
       "1          5.0         2.3          3.3         1.0\n",
       "2          4.9         2.5          4.5         1.7\n",
       "3          4.9         3.1          1.5         0.1\n",
       "4          5.7         3.8          1.7         0.3"
      ]
     },
     "execution_count": 10,
     "metadata": {},
     "output_type": "execute_result"
    }
   ],
   "source": [
    "train.head()"
   ]
  },
  {
   "cell_type": "code",
   "execution_count": 16,
   "metadata": {},
   "outputs": [],
   "source": [
    "#def input_evaluation_set():\n",
    "#features={'SepalLenght':np.array([6.4, 5.0]),\n",
    "#'SepalWidth':np.array([2.8, 2.3]),\n",
    "#'PetalLength':np.array([5.6, 3.3]),\n",
    "#'PetalWidth':np.array([2.2, 1.0])}\n",
    "# labels=np.array([2, 1])\n",
    "#return features, labels"
   ]
  },
  {
   "cell_type": "code",
   "execution_count": 19,
   "metadata": {},
   "outputs": [],
   "source": [
    "def input_fn(features, labels, training=True, batch_size=256):\n",
    "    dataset=tf.data.Dataset.from_tensor_slices((dict(features), labels))\n",
    "    if training:\n",
    "        dataset=dataset.shuffle(1000).repeat()\n",
    "    return dataset.batch(batch_size)"
   ]
  },
  {
   "cell_type": "code",
   "execution_count": 20,
   "metadata": {},
   "outputs": [],
   "source": [
    "my_feature_columns=[]\n",
    "for key in train.keys():\n",
    "    my_feature_columns.append(tf.feature_column.numeric_column(key=key))"
   ]
  },
  {
   "cell_type": "code",
   "execution_count": 21,
   "metadata": {},
   "outputs": [
    {
     "name": "stdout",
     "output_type": "stream",
     "text": [
      "INFO:tensorflow:Using default config.\n",
      "WARNING:tensorflow:Using temporary folder as model directory: C:\\Users\\AYUSHS~1\\AppData\\Local\\Temp\\tmpw26kkmxd\n",
      "INFO:tensorflow:Using config: {'_model_dir': 'C:\\\\Users\\\\AYUSHS~1\\\\AppData\\\\Local\\\\Temp\\\\tmpw26kkmxd', '_tf_random_seed': None, '_save_summary_steps': 100, '_save_checkpoints_steps': None, '_save_checkpoints_secs': 600, '_session_config': allow_soft_placement: true\n",
      "graph_options {\n",
      "  rewrite_options {\n",
      "    meta_optimizer_iterations: ONE\n",
      "  }\n",
      "}\n",
      ", '_keep_checkpoint_max': 5, '_keep_checkpoint_every_n_hours': 10000, '_log_step_count_steps': 100, '_train_distribute': None, '_device_fn': None, '_protocol': None, '_eval_distribute': None, '_experimental_distribute': None, '_service': None, '_cluster_spec': <tensorflow.python.training.server_lib.ClusterSpec object at 0x00000287D9B6A308>, '_task_type': 'worker', '_task_id': 0, '_global_id_in_cluster': 0, '_master': '', '_evaluation_master': '', '_is_chief': True, '_num_ps_replicas': 0, '_num_worker_replicas': 1}\n"
     ]
    }
   ],
   "source": [
    "classifier=tf.estimator.DNNClassifier(feature_columns=my_feature_columns, hidden_units=[30, 10], n_classes=3)"
   ]
  },
  {
   "cell_type": "code",
   "execution_count": 22,
   "metadata": {},
   "outputs": [
    {
     "name": "stdout",
     "output_type": "stream",
     "text": [
      "WARNING:tensorflow:From c:\\users\\ayush singh\\appdata\\local\\programs\\python\\python37\\lib\\site-packages\\tensorflow\\python\\training\\training_util.py:238: Variable.initialized_value (from tensorflow.python.ops.variables) is deprecated and will be removed in a future version.\n",
      "Instructions for updating:\n",
      "Use Variable.read_value. Variables in 2.X are initialized automatically both in eager and graph (inside tf.defun) contexts.\n",
      "INFO:tensorflow:Calling model_fn.\n",
      "WARNING:tensorflow:From c:\\users\\ayush singh\\appdata\\local\\programs\\python\\python37\\lib\\site-packages\\tensorflow\\python\\ops\\init_ops.py:1257: calling VarianceScaling.__init__ (from tensorflow.python.ops.init_ops) with dtype is deprecated and will be removed in a future version.\n",
      "Instructions for updating:\n",
      "Call initializer instance with the dtype argument instead of passing it to the constructor\n",
      "WARNING:tensorflow:From c:\\users\\ayush singh\\appdata\\local\\programs\\python\\python37\\lib\\site-packages\\tensorflow\\python\\feature_column\\feature_column_v2.py:2758: to_float (from tensorflow.python.ops.math_ops) is deprecated and will be removed in a future version.\n",
      "Instructions for updating:\n",
      "Use `tf.cast` instead.\n",
      "WARNING:tensorflow:From c:\\users\\ayush singh\\appdata\\local\\programs\\python\\python37\\lib\\site-packages\\tensorflow\\python\\training\\adagrad.py:76: calling Constant.__init__ (from tensorflow.python.ops.init_ops) with dtype is deprecated and will be removed in a future version.\n",
      "Instructions for updating:\n",
      "Call initializer instance with the dtype argument instead of passing it to the constructor\n",
      "INFO:tensorflow:Done calling model_fn.\n",
      "INFO:tensorflow:Create CheckpointSaverHook.\n",
      "INFO:tensorflow:Graph was finalized.\n",
      "INFO:tensorflow:Running local_init_op.\n",
      "INFO:tensorflow:Done running local_init_op.\n",
      "INFO:tensorflow:Saving checkpoints for 0 into C:\\Users\\AYUSHS~1\\AppData\\Local\\Temp\\tmpw26kkmxd\\model.ckpt.\n",
      "INFO:tensorflow:loss = 4.3544903, step = 0\n",
      "INFO:tensorflow:global_step/sec: 140.219\n",
      "INFO:tensorflow:loss = 0.177793, step = 100 (0.713 sec)\n",
      "INFO:tensorflow:global_step/sec: 176.989\n",
      "INFO:tensorflow:loss = 0.10453012, step = 200 (0.581 sec)\n",
      "INFO:tensorflow:global_step/sec: 172.627\n",
      "INFO:tensorflow:loss = 0.08350465, step = 300 (0.571 sec)\n",
      "INFO:tensorflow:global_step/sec: 173.711\n",
      "INFO:tensorflow:loss = 0.07583564, step = 400 (0.568 sec)\n",
      "INFO:tensorflow:global_step/sec: 194.391\n",
      "INFO:tensorflow:loss = 0.0735427, step = 500 (0.514 sec)\n",
      "INFO:tensorflow:global_step/sec: 188.75\n",
      "INFO:tensorflow:loss = 0.06003923, step = 600 (0.530 sec)\n",
      "INFO:tensorflow:global_step/sec: 192.688\n",
      "INFO:tensorflow:loss = 0.05510194, step = 700 (0.525 sec)\n",
      "INFO:tensorflow:global_step/sec: 171.126\n",
      "INFO:tensorflow:loss = 0.056089006, step = 800 (0.578 sec)\n",
      "INFO:tensorflow:global_step/sec: 190.63\n",
      "INFO:tensorflow:loss = 0.05364553, step = 900 (0.525 sec)\n",
      "INFO:tensorflow:global_step/sec: 191.793\n",
      "INFO:tensorflow:loss = 0.049884904, step = 1000 (0.521 sec)\n",
      "INFO:tensorflow:global_step/sec: 194.326\n",
      "INFO:tensorflow:loss = 0.057665892, step = 1100 (0.517 sec)\n",
      "INFO:tensorflow:global_step/sec: 228.088\n",
      "INFO:tensorflow:loss = 0.051353574, step = 1200 (0.437 sec)\n",
      "INFO:tensorflow:global_step/sec: 193.769\n",
      "INFO:tensorflow:loss = 0.04924333, step = 1300 (0.515 sec)\n",
      "INFO:tensorflow:global_step/sec: 184.242\n",
      "INFO:tensorflow:loss = 0.06129047, step = 1400 (0.550 sec)\n",
      "INFO:tensorflow:global_step/sec: 195.084\n",
      "INFO:tensorflow:loss = 0.046611454, step = 1500 (0.505 sec)\n",
      "INFO:tensorflow:global_step/sec: 219.82\n",
      "INFO:tensorflow:loss = 0.05957773, step = 1600 (0.461 sec)\n",
      "INFO:tensorflow:global_step/sec: 161.166\n",
      "INFO:tensorflow:loss = 0.049110863, step = 1700 (0.614 sec)\n",
      "INFO:tensorflow:global_step/sec: 183.291\n",
      "INFO:tensorflow:loss = 0.057324577, step = 1800 (0.546 sec)\n",
      "INFO:tensorflow:global_step/sec: 184.847\n",
      "INFO:tensorflow:loss = 0.058282655, step = 1900 (0.541 sec)\n",
      "INFO:tensorflow:global_step/sec: 196.917\n",
      "INFO:tensorflow:loss = 0.04730805, step = 2000 (0.508 sec)\n",
      "INFO:tensorflow:global_step/sec: 199.862\n",
      "INFO:tensorflow:loss = 0.045475144, step = 2100 (0.500 sec)\n",
      "INFO:tensorflow:global_step/sec: 204.504\n",
      "INFO:tensorflow:loss = 0.05478739, step = 2200 (0.489 sec)\n",
      "INFO:tensorflow:global_step/sec: 205.397\n",
      "INFO:tensorflow:loss = 0.0403323, step = 2300 (0.487 sec)\n",
      "INFO:tensorflow:global_step/sec: 213.866\n",
      "INFO:tensorflow:loss = 0.04367038, step = 2400 (0.468 sec)\n",
      "INFO:tensorflow:global_step/sec: 214.676\n",
      "INFO:tensorflow:loss = 0.041741416, step = 2500 (0.469 sec)\n",
      "INFO:tensorflow:global_step/sec: 230.142\n",
      "INFO:tensorflow:loss = 0.039061464, step = 2600 (0.433 sec)\n",
      "INFO:tensorflow:global_step/sec: 240.571\n",
      "INFO:tensorflow:loss = 0.039833106, step = 2700 (0.417 sec)\n",
      "INFO:tensorflow:global_step/sec: 250.139\n",
      "INFO:tensorflow:loss = 0.041419044, step = 2800 (0.400 sec)\n",
      "INFO:tensorflow:global_step/sec: 227.947\n",
      "INFO:tensorflow:loss = 0.029136315, step = 2900 (0.444 sec)\n",
      "INFO:tensorflow:global_step/sec: 196.258\n",
      "INFO:tensorflow:loss = 0.0419302, step = 3000 (0.505 sec)\n",
      "INFO:tensorflow:global_step/sec: 206.955\n",
      "INFO:tensorflow:loss = 0.036414687, step = 3100 (0.480 sec)\n",
      "INFO:tensorflow:global_step/sec: 250.598\n",
      "INFO:tensorflow:loss = 0.040253013, step = 3200 (0.399 sec)\n",
      "INFO:tensorflow:global_step/sec: 180.207\n",
      "INFO:tensorflow:loss = 0.03910609, step = 3300 (0.561 sec)\n",
      "INFO:tensorflow:global_step/sec: 247.835\n",
      "INFO:tensorflow:loss = 0.039202265, step = 3400 (0.404 sec)\n",
      "INFO:tensorflow:global_step/sec: 218.601\n",
      "INFO:tensorflow:loss = 0.045757484, step = 3500 (0.455 sec)\n",
      "INFO:tensorflow:global_step/sec: 187.849\n",
      "INFO:tensorflow:loss = 0.036411535, step = 3600 (0.528 sec)\n",
      "INFO:tensorflow:global_step/sec: 192.269\n",
      "INFO:tensorflow:loss = 0.0472553, step = 3700 (0.522 sec)\n",
      "INFO:tensorflow:global_step/sec: 250.753\n",
      "INFO:tensorflow:loss = 0.038113154, step = 3800 (0.398 sec)\n",
      "INFO:tensorflow:global_step/sec: 211.623\n",
      "INFO:tensorflow:loss = 0.03880298, step = 3900 (0.471 sec)\n",
      "INFO:tensorflow:global_step/sec: 166.78\n",
      "INFO:tensorflow:loss = 0.04094882, step = 4000 (0.607 sec)\n",
      "INFO:tensorflow:global_step/sec: 258.289\n",
      "INFO:tensorflow:loss = 0.03846293, step = 4100 (0.384 sec)\n",
      "INFO:tensorflow:global_step/sec: 236.95\n",
      "INFO:tensorflow:loss = 0.035014324, step = 4200 (0.426 sec)\n",
      "INFO:tensorflow:global_step/sec: 218.206\n",
      "INFO:tensorflow:loss = 0.031489983, step = 4300 (0.459 sec)\n",
      "INFO:tensorflow:global_step/sec: 169.598\n",
      "INFO:tensorflow:loss = 0.029599173, step = 4400 (0.584 sec)\n",
      "INFO:tensorflow:global_step/sec: 206.562\n",
      "INFO:tensorflow:loss = 0.034640126, step = 4500 (0.481 sec)\n",
      "INFO:tensorflow:global_step/sec: 243.414\n",
      "INFO:tensorflow:loss = 0.035702363, step = 4600 (0.415 sec)\n",
      "INFO:tensorflow:global_step/sec: 152.666\n",
      "INFO:tensorflow:loss = 0.033567674, step = 4700 (0.650 sec)\n",
      "INFO:tensorflow:global_step/sec: 171.03\n",
      "INFO:tensorflow:loss = 0.03612605, step = 4800 (0.584 sec)\n",
      "INFO:tensorflow:global_step/sec: 175.712\n",
      "INFO:tensorflow:loss = 0.037784, step = 4900 (0.569 sec)\n",
      "INFO:tensorflow:Saving checkpoints for 5000 into C:\\Users\\AYUSHS~1\\AppData\\Local\\Temp\\tmpw26kkmxd\\model.ckpt.\n",
      "INFO:tensorflow:Loss for final step: 0.026316866.\n"
     ]
    },
    {
     "data": {
      "text/plain": [
       "<tensorflow_estimator.python.estimator.canned.dnn.DNNClassifierV2 at 0x287d9b64f08>"
      ]
     },
     "execution_count": 22,
     "metadata": {},
     "output_type": "execute_result"
    }
   ],
   "source": [
    "classifier.train(input_fn=lambda: input_fn(train, train_y, training=True), steps=5000)"
   ]
  },
  {
   "cell_type": "code",
   "execution_count": 23,
   "metadata": {},
   "outputs": [
    {
     "name": "stdout",
     "output_type": "stream",
     "text": [
      "INFO:tensorflow:Calling model_fn.\n",
      "INFO:tensorflow:Done calling model_fn.\n",
      "INFO:tensorflow:Starting evaluation at 2020-07-14T12:42:50Z\n",
      "INFO:tensorflow:Graph was finalized.\n",
      "WARNING:tensorflow:From c:\\users\\ayush singh\\appdata\\local\\programs\\python\\python37\\lib\\site-packages\\tensorflow\\python\\training\\saver.py:1276: checkpoint_exists (from tensorflow.python.training.checkpoint_management) is deprecated and will be removed in a future version.\n",
      "Instructions for updating:\n",
      "Use standard file APIs to check for files with this prefix.\n",
      "INFO:tensorflow:Restoring parameters from C:\\Users\\AYUSHS~1\\AppData\\Local\\Temp\\tmpw26kkmxd\\model.ckpt-5000\n",
      "INFO:tensorflow:Running local_init_op.\n",
      "INFO:tensorflow:Done running local_init_op.\n",
      "INFO:tensorflow:Finished evaluation at 2020-07-14-12:42:52\n",
      "INFO:tensorflow:Saving dict for global step 5000: accuracy = 0.96666664, average_loss = 0.07608546, global_step = 5000, loss = 0.07608546\n",
      "INFO:tensorflow:Saving 'checkpoint_path' summary for global step 5000: C:\\Users\\AYUSHS~1\\AppData\\Local\\Temp\\tmpw26kkmxd\\model.ckpt-5000\n",
      "\n",
      "Test set accuracy: 0.967\n",
      "\n"
     ]
    }
   ],
   "source": [
    "eval_result=classifier.evaluate(input_fn=lambda: input_fn(test, test_y, training=False))\n",
    "print('\\nTest set accuracy: {accuracy:0.3f}\\n'.format(**eval_result))"
   ]
  },
  {
   "cell_type": "code",
   "execution_count": 28,
   "metadata": {},
   "outputs": [],
   "source": [
    "expected=['Setosa', 'Versicolor', 'Virginica']\n",
    "predict_x={'SepalLength': [6.4, 5.0, 4.9],\n",
    "    'SepalWidth': [2.5, 2.3, 2.8],\n",
    "    'PetalLength': [4.5, 3.3, 5.6],\n",
    "    'PetalWidth': [1.7, 1.0, 2.2],\n",
    "}\n",
    "def input_fn(features, batch_size=256):\n",
    "    \"\"\"An input function for prediction.\"\"\"\n",
    "    # Convert the inputs to a Dataset without labels.\n",
    "    return tf.data.Dataset.from_tensor_slices(dict(features)).batch(batch_size)\n",
    "\n",
    "predictions = classifier.predict(\n",
    "    input_fn=lambda: input_fn(predict_x))"
   ]
  },
  {
   "cell_type": "code",
   "execution_count": 29,
   "metadata": {},
   "outputs": [
    {
     "name": "stdout",
     "output_type": "stream",
     "text": [
      "INFO:tensorflow:Calling model_fn.\n",
      "INFO:tensorflow:Done calling model_fn.\n",
      "INFO:tensorflow:Graph was finalized.\n",
      "INFO:tensorflow:Restoring parameters from C:\\Users\\AYUSHS~1\\AppData\\Local\\Temp\\tmpw26kkmxd\\model.ckpt-5000\n",
      "INFO:tensorflow:Running local_init_op.\n",
      "INFO:tensorflow:Done running local_init_op.\n",
      "Prediction is \"Versicolor\" (74.5%), expected \"Setosa\"\n",
      "Prediction is \"Versicolor\" (99.9%), expected \"Versicolor\"\n",
      "Prediction is \"Virginica\" (100.0%), expected \"Virginica\"\n"
     ]
    }
   ],
   "source": [
    "for pred_dict, expec in zip(predictions, expected):\n",
    "    class_id = pred_dict['class_ids'][0]\n",
    "    probability = pred_dict['probabilities'][class_id]\n",
    "\n",
    "    print('Prediction is \"{}\" ({:.1f}%), expected \"{}\"'.format(\n",
    "        SPECIES[class_id], 100 * probability, expec))"
   ]
  }
 ],
 "metadata": {
  "kernelspec": {
   "display_name": "Python 3",
   "language": "python",
   "name": "python3"
  },
  "language_info": {
   "codemirror_mode": {
    "name": "ipython",
    "version": 3
   },
   "file_extension": ".py",
   "mimetype": "text/x-python",
   "name": "python",
   "nbconvert_exporter": "python",
   "pygments_lexer": "ipython3",
   "version": "3.7.6"
  }
 },
 "nbformat": 4,
 "nbformat_minor": 4
}
