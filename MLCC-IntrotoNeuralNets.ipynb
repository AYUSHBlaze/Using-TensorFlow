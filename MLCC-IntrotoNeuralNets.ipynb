{
 "cells": [
  {
   "cell_type": "code",
   "execution_count": 1,
   "metadata": {},
   "outputs": [
    {
     "name": "stderr",
     "output_type": "stream",
     "text": [
      "e:\\python 3.7.6\\lib\\site-packages\\tensorflow\\python\\framework\\dtypes.py:523: FutureWarning: Passing (type, 1) or '1type' as a synonym of type is deprecated; in a future version of numpy, it will be understood as (type, (1,)) / '(1,)type'.\n",
      "  _np_qint8 = np.dtype([(\"qint8\", np.int8, 1)])\n",
      "e:\\python 3.7.6\\lib\\site-packages\\tensorflow\\python\\framework\\dtypes.py:524: FutureWarning: Passing (type, 1) or '1type' as a synonym of type is deprecated; in a future version of numpy, it will be understood as (type, (1,)) / '(1,)type'.\n",
      "  _np_quint8 = np.dtype([(\"quint8\", np.uint8, 1)])\n",
      "e:\\python 3.7.6\\lib\\site-packages\\tensorflow\\python\\framework\\dtypes.py:525: FutureWarning: Passing (type, 1) or '1type' as a synonym of type is deprecated; in a future version of numpy, it will be understood as (type, (1,)) / '(1,)type'.\n",
      "  _np_qint16 = np.dtype([(\"qint16\", np.int16, 1)])\n",
      "e:\\python 3.7.6\\lib\\site-packages\\tensorflow\\python\\framework\\dtypes.py:526: FutureWarning: Passing (type, 1) or '1type' as a synonym of type is deprecated; in a future version of numpy, it will be understood as (type, (1,)) / '(1,)type'.\n",
      "  _np_quint16 = np.dtype([(\"quint16\", np.uint16, 1)])\n",
      "e:\\python 3.7.6\\lib\\site-packages\\tensorflow\\python\\framework\\dtypes.py:527: FutureWarning: Passing (type, 1) or '1type' as a synonym of type is deprecated; in a future version of numpy, it will be understood as (type, (1,)) / '(1,)type'.\n",
      "  _np_qint32 = np.dtype([(\"qint32\", np.int32, 1)])\n",
      "e:\\python 3.7.6\\lib\\site-packages\\tensorflow\\python\\framework\\dtypes.py:532: FutureWarning: Passing (type, 1) or '1type' as a synonym of type is deprecated; in a future version of numpy, it will be understood as (type, (1,)) / '(1,)type'.\n",
      "  np_resource = np.dtype([(\"resource\", np.ubyte, 1)])\n"
     ]
    }
   ],
   "source": [
    "import numpy as np\n",
    "import matplotlib.pyplot as plt\n",
    "import pandas as pd\n",
    "import tensorflow as tf\n",
    "from tensorflow.keras import layers\n",
    "import seaborn as sns\n",
    "\n",
    "pd.options.display.max_rows=10\n",
    "pd.options.display.float_format=\"{:.1f}\".format"
   ]
  },
  {
   "cell_type": "code",
   "execution_count": 2,
   "metadata": {},
   "outputs": [],
   "source": [
    "train_df = pd.read_csv(\"https://download.mlcc.google.com/mledu-datasets/california_housing_train.csv\")\n",
    "train_df = train_df.reindex(np.random.permutation(train_df.index)) # shuffle the examples\n",
    "test_df = pd.read_csv(\"https://download.mlcc.google.com/mledu-datasets/california_housing_test.csv\")"
   ]
  },
  {
   "cell_type": "code",
   "execution_count": 3,
   "metadata": {},
   "outputs": [],
   "source": [
    "train_df_mean = train_df.mean()\n",
    "train_df_std = train_df.std()\n",
    "train_df_norm = (train_df - train_df_mean)/train_df_std\n",
    "\n",
    "# Calculate the Z-scores of each column in the test set.\n",
    "test_df_mean = test_df.mean()\n",
    "test_df_std = test_df.std()\n",
    "test_df_norm = (test_df - test_df_mean)/test_df_std"
   ]
  },
  {
   "cell_type": "code",
   "execution_count": 4,
   "metadata": {},
   "outputs": [],
   "source": [
    "# Create an empty list that will eventually hold all created feature columns.\n",
    "feature_columns = []\n",
    "\n",
    "# We scaled all the columns, including latitude and longitude, into their\n",
    "# Z scores. So, instead of picking a resolution in degrees, we're going\n",
    "# to use resolution_in_Zs.  A resolution_in_Zs of 1 corresponds to \n",
    "# a full standard deviation. \n",
    "resolution_in_Zs = 0.3  # 3/10 of a standard deviation.\n",
    "\n",
    "# Create a bucket feature column for latitude.\n",
    "latitude_as_a_numeric_column = tf.feature_column.numeric_column(\"latitude\")\n",
    "latitude_boundaries = list(np.arange(int(min(train_df_norm['latitude'])), \n",
    "                                     int(max(train_df_norm['latitude'])), \n",
    "                                     resolution_in_Zs))\n",
    "latitude = tf.feature_column.bucketized_column(latitude_as_a_numeric_column, latitude_boundaries)\n",
    "\n",
    "# Create a bucket feature column for longitude.\n",
    "longitude_as_a_numeric_column = tf.feature_column.numeric_column(\"longitude\")\n",
    "longitude_boundaries = list(np.arange(int(min(train_df_norm['longitude'])), \n",
    "                                      int(max(train_df_norm['longitude'])), \n",
    "                                      resolution_in_Zs))\n",
    "longitude = tf.feature_column.bucketized_column(longitude_as_a_numeric_column, \n",
    "                                                longitude_boundaries)\n",
    "\n",
    "# Create a feature cross of latitude and longitude.\n",
    "latitude_x_longitude = tf.feature_column.crossed_column([latitude, longitude], hash_bucket_size=100)\n",
    "crossed_feature = tf.feature_column.indicator_column(latitude_x_longitude)\n",
    "feature_columns.append(crossed_feature)  \n",
    "\n",
    "# Represent median_income as a floating-point value.\n",
    "median_income = tf.feature_column.numeric_column(\"median_income\")\n",
    "feature_columns.append(median_income)\n",
    "\n",
    "# Represent population as a floating-point value.\n",
    "population = tf.feature_column.numeric_column(\"population\")\n",
    "feature_columns.append(population)\n",
    "\n",
    "# Convert the list of feature columns into a layer that will later be fed into\n",
    "# the model. \n",
    "my_feature_layer = tf.keras.layers.DenseFeatures(feature_columns)"
   ]
  },
  {
   "cell_type": "code",
   "execution_count": 5,
   "metadata": {},
   "outputs": [],
   "source": [
    "def plot_the_loss_curve(epochs, mse):\n",
    "\n",
    "    plt.figure()\n",
    "    plt.xlabel(\"Epoch\")\n",
    "    plt.ylabel(\"Mean Squared Error\")\n",
    "\n",
    "    plt.plot(epochs, mse, label=\"Loss\")\n",
    "    plt.legend()\n",
    "    plt.ylim([mse.min()*0.95, mse.max() * 1.03])\n",
    "    plt.show()  "
   ]
  },
  {
   "cell_type": "code",
   "execution_count": 6,
   "metadata": {},
   "outputs": [],
   "source": [
    "def create_model(my_learning_rate, feature_layer):\n",
    "    model=tf.keras.models.Sequential()\n",
    "    model.add(feature_layer)\n",
    "    model.add(tf.keras.layers.Dense(units=1, input_shape=(1,)))\n",
    "    model.compile(optimizer=tf.keras.optimizers.RMSprop(lr=my_learning_rate),\n",
    "                 loss=\"mean_squared_error\",\n",
    "                 metrics=[tf.keras.metrics.MeanSquaredError()])\n",
    "    return model\n",
    "\n",
    "def train_model(model, dataset, epochs, batch_size, label_name):\n",
    "    features = {name:np.array(value) for name, value in dataset.items()}\n",
    "    label = np.array(features.pop(label_name))\n",
    "    history = model.fit(x=features, y=label, batch_size=batch_size,\n",
    "                      epochs=epochs, shuffle=True)\n",
    "\n",
    "  # Get details that will be useful for plotting the loss curve.\n",
    "    epochs = history.epoch\n",
    "    hist = pd.DataFrame(history.history)\n",
    "    rmse = hist[\"mean_squared_error\"]\n",
    "\n",
    "    return epochs, rmse "
   ]
  },
  {
   "cell_type": "code",
   "execution_count": 7,
   "metadata": {},
   "outputs": [
    {
     "name": "stdout",
     "output_type": "stream",
     "text": [
      "WARNING:tensorflow:From e:\\python 3.7.6\\lib\\site-packages\\tensorflow\\python\\feature_column\\feature_column_v2.py:2758: to_float (from tensorflow.python.ops.math_ops) is deprecated and will be removed in a future version.\n",
      "Instructions for updating:\n",
      "Use `tf.cast` instead.\n",
      "WARNING:tensorflow:From e:\\python 3.7.6\\lib\\site-packages\\tensorflow\\python\\feature_column\\feature_column_v2.py:2949: to_int64 (from tensorflow.python.ops.math_ops) is deprecated and will be removed in a future version.\n",
      "Instructions for updating:\n",
      "Use `tf.cast` instead.\n",
      "WARNING:tensorflow:From e:\\python 3.7.6\\lib\\site-packages\\tensorflow\\python\\feature_column\\feature_column_v2.py:4307: IndicatorColumn._variable_shape (from tensorflow.python.feature_column.feature_column_v2) is deprecated and will be removed in a future version.\n",
      "Instructions for updating:\n",
      "The old _FeatureColumn APIs are being deprecated. Please use the new FeatureColumn APIs instead.\n",
      "WARNING:tensorflow:From e:\\python 3.7.6\\lib\\site-packages\\tensorflow\\python\\feature_column\\feature_column_v2.py:4362: CrossedColumn._num_buckets (from tensorflow.python.feature_column.feature_column_v2) is deprecated and will be removed in a future version.\n",
      "Instructions for updating:\n",
      "The old _FeatureColumn APIs are being deprecated. Please use the new FeatureColumn APIs instead.\n",
      "Epoch 1/15\n",
      "17000/17000 [==============================] - 1s 77us/sample - loss: 0.8276 - mean_squared_error: 0.8276\n",
      "Epoch 2/15\n",
      "17000/17000 [==============================] - 1s 43us/sample - loss: 0.5826 - mean_squared_error: 0.5826\n",
      "Epoch 3/15\n",
      "17000/17000 [==============================] - 1s 31us/sample - loss: 0.4740 - mean_squared_error: 0.4740\n",
      "Epoch 4/15\n",
      "17000/17000 [==============================] - 1s 33us/sample - loss: 0.4251 - mean_squared_error: 0.4251\n",
      "Epoch 5/15\n",
      "17000/17000 [==============================] - 1s 38us/sample - loss: 0.4092 - mean_squared_error: 0.4092\n",
      "Epoch 6/15\n",
      "17000/17000 [==============================] - 1s 37us/sample - loss: 0.4066 - mean_squared_error: 0.4066\n",
      "Epoch 7/15\n",
      "17000/17000 [==============================] - 1s 47us/sample - loss: 0.4060 - mean_squared_error: 0.4060\n",
      "Epoch 8/15\n",
      "17000/17000 [==============================] - 0s 26us/sample - loss: 0.4063 - mean_squared_error: 0.4063\n",
      "Epoch 9/15\n",
      "17000/17000 [==============================] - 0s 25us/sample - loss: 0.4058 - mean_squared_error: 0.4058\n",
      "Epoch 10/15\n",
      "17000/17000 [==============================] - 0s 25us/sample - loss: 0.4056 - mean_squared_error: 0.4056\n",
      "Epoch 11/15\n",
      "17000/17000 [==============================] - 1s 34us/sample - loss: 0.4061 - mean_squared_error: 0.4061\n",
      "Epoch 12/15\n",
      "17000/17000 [==============================] - 1s 37us/sample - loss: 0.4056 - mean_squared_error: 0.4056\n",
      "Epoch 13/15\n",
      "17000/17000 [==============================] - 0s 26us/sample - loss: 0.4057 - mean_squared_error: 0.4057\n",
      "Epoch 14/15\n",
      "17000/17000 [==============================] - 1s 38us/sample - loss: 0.4059 - mean_squared_error: 0.4059\n",
      "Epoch 15/15\n",
      "17000/17000 [==============================] - 0s 25us/sample - loss: 0.4056 - mean_squared_error: 0.4056\n"
     ]
    },
    {
     "data": {
      "image/png": "[encoded data removed]",
      "text/plain": [
       "<Figure size 432x288 with 1 Axes>"
      ]
     },
     "metadata": {
      "needs_background": "light"
     },
     "output_type": "display_data"
    },
    {
     "name": "stdout",
     "output_type": "stream",
     "text": [
      "\n",
      " Evaluate the linear regression model against the test set:\n",
      "3000/3000 [==============================] - 0s 36us/sample - loss: 0.4334 - mean_squared_error: 0.4334\n"
     ]
    },
    {
     "data": {
      "text/plain": [
       "[0.4334163963794708, 0.43341643]"
      ]
     },
     "execution_count": 7,
     "metadata": {},
     "output_type": "execute_result"
    }
   ],
   "source": [
    "learning_rate = 0.01\n",
    "epochs = 15\n",
    "batch_size = 1000\n",
    "label_name = \"median_house_value\"\n",
    "\n",
    "# Establish the model's topography.\n",
    "my_model = create_model(learning_rate, my_feature_layer)\n",
    "\n",
    "# Train the model on the normalized training set.\n",
    "epochs, mse = train_model(my_model, train_df_norm, epochs, batch_size, label_name)\n",
    "plot_the_loss_curve(epochs, mse)\n",
    "\n",
    "test_features = {name:np.array(value) for name, value in test_df_norm.items()}\n",
    "test_label = np.array(test_features.pop(label_name)) # isolate the label\n",
    "print(\"\\n Evaluate the linear regression model against the test set:\")\n",
    "my_model.evaluate(x = test_features, y = test_label, batch_size=batch_size)"
   ]
  },
  {
   "cell_type": "code",
   "execution_count": 27,
   "metadata": {},
   "outputs": [],
   "source": [
    "def create_model(my_learning_rate, my_feature_layer):\n",
    "    model=tf.keras.models.Sequential()\n",
    "    model.add(my_feature_layer)\n",
    "    model.add(tf.keras.layers.Dense(units=20, activation=\"relu\", name=\"Hidden1\"))\n",
    "    model.add(tf.keras.layers.Dense(units=12, activation=\"relu\", name=\"Hidden2\"))\n",
    "    model.add(tf.keras.layers.Dense(units=1, name=\"output\"))\n",
    "    model.compile(optimizer=tf.keras.optimizers.Adam(lr=my_learning_rate),\n",
    "                 loss=\"mean_squared_error\",\n",
    "                 metrics=[tf.keras.metrics.MeanSquaredError()])\n",
    "    return model"
   ]
  },
  {
   "cell_type": "code",
   "execution_count": 25,
   "metadata": {},
   "outputs": [],
   "source": [
    "def train_model(model, dataset, epochs, label_name, batch_size=None):\n",
    "    features = {name:np.array(value) for name, value in dataset.items()}\n",
    "    label = np.array(features.pop(label_name))\n",
    "    history = model.fit(x=features, y=label, batch_size=batch_size,\n",
    "                      epochs=epochs, shuffle=True) \n",
    "    epochs = history.epoch\n",
    "  \n",
    "    hist = pd.DataFrame(history.history)\n",
    "    mse = hist[\"mean_squared_error\"]\n",
    "\n",
    "    return epochs, mse"
   ]
  },
  {
   "cell_type": "code",
   "execution_count": 28,
   "metadata": {},
   "outputs": [
    {
     "name": "stdout",
     "output_type": "stream",
     "text": [
      "Epoch 1/20\n",
      "17000/17000 [==============================] - 1s 47us/sample - loss: 0.6675 - mean_squared_error: 0.6675\n",
      "Epoch 2/20\n",
      "17000/17000 [==============================] - 1s 35us/sample - loss: 0.4250 - mean_squared_error: 0.4250\n",
      "Epoch 3/20\n",
      "17000/17000 [==============================] - 1s 47us/sample - loss: 0.3939 - mean_squared_error: 0.3939\n",
      "Epoch 4/20\n",
      "17000/17000 [==============================] - 1s 35us/sample - loss: 0.3863 - mean_squared_error: 0.3863\n",
      "Epoch 5/20\n",
      "17000/17000 [==============================] - 1s 38us/sample - loss: 0.3841 - mean_squared_error: 0.3841\n",
      "Epoch 6/20\n",
      "17000/17000 [==============================] - 1s 47us/sample - loss: 0.3807 - mean_squared_error: 0.3807\n",
      "Epoch 7/20\n",
      "17000/17000 [==============================] - 1s 40us/sample - loss: 0.3793 - mean_squared_error: 0.3793\n",
      "Epoch 8/20\n",
      "17000/17000 [==============================] - 1s 53us/sample - loss: 0.3785 - mean_squared_error: 0.3785\n",
      "Epoch 9/20\n",
      "17000/17000 [==============================] - 1s 61us/sample - loss: 0.3766 - mean_squared_error: 0.3766\n",
      "Epoch 10/20\n",
      "17000/17000 [==============================] - 1s 45us/sample - loss: 0.3757 - mean_squared_error: 0.3757\n",
      "Epoch 11/20\n",
      "17000/17000 [==============================] - 1s 41us/sample - loss: 0.3777 - mean_squared_error: 0.3777\n",
      "Epoch 12/20\n",
      "17000/17000 [==============================] - 1s 30us/sample - loss: 0.3741 - mean_squared_error: 0.3741\n",
      "Epoch 13/20\n",
      "17000/17000 [==============================] - 1s 29us/sample - loss: 0.3747 - mean_squared_error: 0.3747\n",
      "Epoch 14/20\n",
      "17000/17000 [==============================] - 1s 30us/sample - loss: 0.3727 - mean_squared_error: 0.3727\n",
      "Epoch 15/20\n",
      "17000/17000 [==============================] - 1s 39us/sample - loss: 0.3738 - mean_squared_error: 0.3738\n",
      "Epoch 16/20\n",
      "17000/17000 [==============================] - 1s 37us/sample - loss: 0.3737 - mean_squared_error: 0.3737\n",
      "Epoch 17/20\n",
      "17000/17000 [==============================] - 1s 42us/sample - loss: 0.3715 - mean_squared_error: 0.3715\n",
      "Epoch 18/20\n",
      "17000/17000 [==============================] - 1s 43us/sample - loss: 0.3718 - mean_squared_error: 0.3718\n",
      "Epoch 19/20\n",
      "17000/17000 [==============================] - 1s 46us/sample - loss: 0.3709 - mean_squared_error: 0.3709\n",
      "Epoch 20/20\n",
      "17000/17000 [==============================] - 1s 33us/sample - loss: 0.3702 - mean_squared_error: 0.3702\n"
     ]
    },
    {
     "data": {
      "image/png": "[encoded data removed]",
      "text/plain": [
       "<Figure size 432x288 with 1 Axes>"
      ]
     },
     "metadata": {
      "needs_background": "light"
     },
     "output_type": "display_data"
    },
    {
     "name": "stdout",
     "output_type": "stream",
     "text": [
      "\n",
      " Evaluate the new model against the test set:\n",
      "3000/3000 [==============================] - 0s 17us/sample - loss: 0.4002 - mean_squared_error: 0.4002\n"
     ]
    },
    {
     "data": {
      "text/plain": [
       "[0.4002168079217275, 0.4002168]"
      ]
     },
     "execution_count": 28,
     "metadata": {},
     "output_type": "execute_result"
    }
   ],
   "source": [
    "learning_rate = 0.01\n",
    "epochs = 20\n",
    "batch_size = 1000\n",
    "\n",
    "# Specify the label\n",
    "label_name = \"median_house_value\"\n",
    "\n",
    "# Establish the model's topography.\n",
    "my_model = create_model(learning_rate, my_feature_layer)\n",
    "\n",
    "# Train the model on the normalized training set. We're passing the entire\n",
    "# normalized training set, but the model will only use the features\n",
    "# defined by the feature_layer.\n",
    "epochs, mse = train_model(my_model, train_df_norm, epochs, \n",
    "                          label_name, batch_size)\n",
    "plot_the_loss_curve(epochs, mse)\n",
    "\n",
    "# After building a model against the training set, test that model\n",
    "# against the test set.\n",
    "test_features = {name:np.array(value) for name, value in test_df_norm.items()}\n",
    "test_label = np.array(test_features.pop(label_name)) # isolate the label\n",
    "print(\"\\n Evaluate the new model against the test set:\")\n",
    "my_model.evaluate(x = test_features, y = test_label, batch_size=batch_size)"
   ]
  }
 ],
 "metadata": {
  "kernelspec": {
   "display_name": "Python 3",
   "language": "python",
   "name": "python3"
  },
  "language_info": {
   "codemirror_mode": {
    "name": "ipython",
    "version": 3
   },
   "file_extension": ".py",
   "mimetype": "text/x-python",
   "name": "python",
   "nbconvert_exporter": "python",
   "pygments_lexer": "ipython3",
   "version": "3.7.6"
  }
 },
 "nbformat": 4,
 "nbformat_minor": 4
}
