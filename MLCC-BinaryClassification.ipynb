{
 "cells": [
  {
   "cell_type": "code",
   "execution_count": 1,
   "metadata": {},
   "outputs": [
    {
     "name": "stderr",
     "output_type": "stream",
     "text": [
      "e:\\python 3.7.6\\lib\\site-packages\\tensorflow\\python\\framework\\dtypes.py:523: FutureWarning: Passing (type, 1) or '1type' as a synonym of type is deprecated; in a future version of numpy, it will be understood as (type, (1,)) / '(1,)type'.\n",
      "  _np_qint8 = np.dtype([(\"qint8\", np.int8, 1)])\n",
      "e:\\python 3.7.6\\lib\\site-packages\\tensorflow\\python\\framework\\dtypes.py:524: FutureWarning: Passing (type, 1) or '1type' as a synonym of type is deprecated; in a future version of numpy, it will be understood as (type, (1,)) / '(1,)type'.\n",
      "  _np_quint8 = np.dtype([(\"quint8\", np.uint8, 1)])\n",
      "e:\\python 3.7.6\\lib\\site-packages\\tensorflow\\python\\framework\\dtypes.py:525: FutureWarning: Passing (type, 1) or '1type' as a synonym of type is deprecated; in a future version of numpy, it will be understood as (type, (1,)) / '(1,)type'.\n",
      "  _np_qint16 = np.dtype([(\"qint16\", np.int16, 1)])\n",
      "e:\\python 3.7.6\\lib\\site-packages\\tensorflow\\python\\framework\\dtypes.py:526: FutureWarning: Passing (type, 1) or '1type' as a synonym of type is deprecated; in a future version of numpy, it will be understood as (type, (1,)) / '(1,)type'.\n",
      "  _np_quint16 = np.dtype([(\"quint16\", np.uint16, 1)])\n",
      "e:\\python 3.7.6\\lib\\site-packages\\tensorflow\\python\\framework\\dtypes.py:527: FutureWarning: Passing (type, 1) or '1type' as a synonym of type is deprecated; in a future version of numpy, it will be understood as (type, (1,)) / '(1,)type'.\n",
      "  _np_qint32 = np.dtype([(\"qint32\", np.int32, 1)])\n",
      "e:\\python 3.7.6\\lib\\site-packages\\tensorflow\\python\\framework\\dtypes.py:532: FutureWarning: Passing (type, 1) or '1type' as a synonym of type is deprecated; in a future version of numpy, it will be understood as (type, (1,)) / '(1,)type'.\n",
      "  np_resource = np.dtype([(\"resource\", np.ubyte, 1)])\n"
     ]
    }
   ],
   "source": [
    "import numpy as np\n",
    "import pandas as pd\n",
    "import tensorflow as tf\n",
    "import matplotlib.pyplot as plt\n",
    "from tensorflow import feature_column\n",
    "from tensorflow.keras import layers\n",
    "\n",
    "pd.options.display.max_rows=10\n",
    "pd.options.display.float_format=\"{:.1f}\".format"
   ]
  },
  {
   "cell_type": "code",
   "execution_count": 2,
   "metadata": {},
   "outputs": [],
   "source": [
    "train_df=pd.read_csv(\"https://download.mlcc.google.com/mledu-datasets/california_housing_train.csv\")\n",
    "test_df=pd.read_csv(\"https://download.mlcc.google.com/mledu-datasets/california_housing_test.csv\")\n",
    "train_df=train_df.reindex(np.random.permutation(train_df.index))"
   ]
  },
  {
   "cell_type": "code",
   "execution_count": 3,
   "metadata": {},
   "outputs": [
    {
     "data": {
      "text/html": [
       "<div>\n",
       "<style scoped>\n",
       "    .dataframe tbody tr th:only-of-type {\n",
       "        vertical-align: middle;\n",
       "    }\n",
       "\n",
       "    .dataframe tbody tr th {\n",
       "        vertical-align: top;\n",
       "    }\n",
       "\n",
       "    .dataframe thead th {\n",
       "        text-align: right;\n",
       "    }\n",
       "</style>\n",
       "<table border=\"1\" class=\"dataframe\">\n",
       "  <thead>\n",
       "    <tr style=\"text-align: right;\">\n",
       "      <th></th>\n",
       "      <th>longitude</th>\n",
       "      <th>latitude</th>\n",
       "      <th>housing_median_age</th>\n",
       "      <th>total_rooms</th>\n",
       "      <th>total_bedrooms</th>\n",
       "      <th>population</th>\n",
       "      <th>households</th>\n",
       "      <th>median_income</th>\n",
       "      <th>median_house_value</th>\n",
       "    </tr>\n",
       "  </thead>\n",
       "  <tbody>\n",
       "    <tr>\n",
       "      <th>1699</th>\n",
       "      <td>1.2</td>\n",
       "      <td>-1.3</td>\n",
       "      <td>1.1</td>\n",
       "      <td>-0.2</td>\n",
       "      <td>-0.4</td>\n",
       "      <td>-0.4</td>\n",
       "      <td>-0.3</td>\n",
       "      <td>0.9</td>\n",
       "      <td>0.8</td>\n",
       "    </tr>\n",
       "    <tr>\n",
       "      <th>12264</th>\n",
       "      <td>-1.0</td>\n",
       "      <td>1.4</td>\n",
       "      <td>1.9</td>\n",
       "      <td>-0.4</td>\n",
       "      <td>-0.5</td>\n",
       "      <td>-0.7</td>\n",
       "      <td>-0.5</td>\n",
       "      <td>0.1</td>\n",
       "      <td>-0.3</td>\n",
       "    </tr>\n",
       "    <tr>\n",
       "      <th>5745</th>\n",
       "      <td>0.7</td>\n",
       "      <td>-0.8</td>\n",
       "      <td>0.4</td>\n",
       "      <td>-0.5</td>\n",
       "      <td>-0.4</td>\n",
       "      <td>0.3</td>\n",
       "      <td>-0.4</td>\n",
       "      <td>-1.0</td>\n",
       "      <td>-0.6</td>\n",
       "    </tr>\n",
       "    <tr>\n",
       "      <th>10454</th>\n",
       "      <td>-0.4</td>\n",
       "      <td>1.1</td>\n",
       "      <td>-1.2</td>\n",
       "      <td>-0.2</td>\n",
       "      <td>-0.3</td>\n",
       "      <td>-0.4</td>\n",
       "      <td>-0.3</td>\n",
       "      <td>-0.8</td>\n",
       "      <td>-0.3</td>\n",
       "    </tr>\n",
       "    <tr>\n",
       "      <th>3502</th>\n",
       "      <td>0.8</td>\n",
       "      <td>-0.8</td>\n",
       "      <td>-0.0</td>\n",
       "      <td>0.0</td>\n",
       "      <td>-0.5</td>\n",
       "      <td>-0.4</td>\n",
       "      <td>-0.4</td>\n",
       "      <td>2.7</td>\n",
       "      <td>1.4</td>\n",
       "    </tr>\n",
       "  </tbody>\n",
       "</table>\n",
       "</div>"
      ],
      "text/plain": [
       "       longitude  latitude  housing_median_age  total_rooms  total_bedrooms  \\\n",
       "1699         1.2      -1.3                 1.1         -0.2            -0.4   \n",
       "12264       -1.0       1.4                 1.9         -0.4            -0.5   \n",
       "5745         0.7      -0.8                 0.4         -0.5            -0.4   \n",
       "10454       -0.4       1.1                -1.2         -0.2            -0.3   \n",
       "3502         0.8      -0.8                -0.0          0.0            -0.5   \n",
       "\n",
       "       population  households  median_income  median_house_value  \n",
       "1699         -0.4        -0.3            0.9                 0.8  \n",
       "12264        -0.7        -0.5            0.1                -0.3  \n",
       "5745          0.3        -0.4           -1.0                -0.6  \n",
       "10454        -0.4        -0.3           -0.8                -0.3  \n",
       "3502         -0.4        -0.4            2.7                 1.4  "
      ]
     },
     "execution_count": 3,
     "metadata": {},
     "output_type": "execute_result"
    }
   ],
   "source": [
    "train_df_mean=train_df.mean()\n",
    "train_df_std=train_df.std()\n",
    "train_df_norm=(train_df - train_df_mean)/train_df_std\n",
    "train_df_norm.head()"
   ]
  },
  {
   "cell_type": "code",
   "execution_count": 4,
   "metadata": {},
   "outputs": [],
   "source": [
    "test_df_mean = test_df.mean()\n",
    "test_df_std  = test_df.std()\n",
    "test_df_norm = (test_df - test_df_mean)/test_df_std"
   ]
  },
  {
   "cell_type": "code",
   "execution_count": 5,
   "metadata": {},
   "outputs": [
    {
     "data": {
      "text/plain": [
       "1699    1.0\n",
       "12264   0.0\n",
       "5745    0.0\n",
       "10454   0.0\n",
       "3502    1.0\n",
       "         ..\n",
       "13926   1.0\n",
       "12428   0.0\n",
       "7455    1.0\n",
       "13276   0.0\n",
       "6022    0.0\n",
       "Name: median_house_value_is_high, Length: 8000, dtype: float64"
      ]
     },
     "execution_count": 5,
     "metadata": {},
     "output_type": "execute_result"
    }
   ],
   "source": [
    "threshold=265000\n",
    "train_df_norm[\"median_house_value_is_high\"]=(train_df[\"median_house_value\"]>threshold).astype(float)\n",
    "test_df_norm[\"median_house_value_is_high\"]=(test_df[\"median_house_value\"]>threshold).astype(float)\n",
    "train_df_norm[\"median_house_value_is_high\"].head(8000)"
   ]
  },
  {
   "cell_type": "code",
   "execution_count": 6,
   "metadata": {},
   "outputs": [
    {
     "name": "stdout",
     "output_type": "stream",
     "text": [
      "WARNING:tensorflow:From e:\\python 3.7.6\\lib\\site-packages\\tensorflow\\python\\feature_column\\feature_column_v2.py:2758: to_float (from tensorflow.python.ops.math_ops) is deprecated and will be removed in a future version.\n",
      "Instructions for updating:\n",
      "Use `tf.cast` instead.\n"
     ]
    },
    {
     "data": {
      "text/plain": [
       "<tf.Tensor: id=26, shape=(17000, 2), dtype=float32, numpy=\n",
       "array([[ 0.8622573 , -0.1961811 ],\n",
       "       [ 0.13789324, -0.44022372],\n",
       "       [-1.0460767 , -0.53472143],\n",
       "       ...,\n",
       "       [ 0.5195705 , -0.6498618 ],\n",
       "       [-0.16899982,  1.0648587 ],\n",
       "       [ 0.07222778,  0.7905401 ]], dtype=float32)>"
      ]
     },
     "execution_count": 6,
     "metadata": {},
     "output_type": "execute_result"
    }
   ],
   "source": [
    "feature_columns=[]\n",
    "median_income=tf.feature_column.numeric_column(\"median_income\")\n",
    "feature_columns.append(median_income)\n",
    "\n",
    "tr=tf.feature_column.numeric_column(\"total_rooms\")\n",
    "feature_columns.append(tr)\n",
    "\n",
    "feature_layer=layers.DenseFeatures(feature_columns)\n",
    "\n",
    "feature_layer(dict(train_df_norm))"
   ]
  },
  {
   "cell_type": "code",
   "execution_count": 7,
   "metadata": {},
   "outputs": [],
   "source": [
    "def create_model(my_learning_rate, feature_layer, my_metrics):\n",
    "    model=tf.keras.models.Sequential()\n",
    "    model.add(feature_layer)\n",
    "    model.add(tf.keras.layers.Dense(units=1, input_shape=(1,),\n",
    "                                   activation=tf.sigmoid),)\n",
    "    model.compile(optimizer=tf.keras.optimizers.RMSprop(lr=my_learning_rate), \n",
    "                 loss=tf.keras.losses.BinaryCrossentropy(),\n",
    "                 metrics=my_metrics)\n",
    "    return model\n",
    "\n",
    "def train_model(model, dataset, epochs, label_name, batch_size=None, shuffle=True):\n",
    "    features={name:np.array(value) for name, value in dataset.items()}\n",
    "    label=np.array(features.pop(label_name))\n",
    "    history=model.fit(x=features, y=label, batch_size=batch_size, epochs=epochs, shuffle=shuffle)\n",
    "    epochs=history.epoch\n",
    "    hist=pd.DataFrame(history.history)\n",
    "    return epochs, hist"
   ]
  },
  {
   "cell_type": "code",
   "execution_count": 8,
   "metadata": {},
   "outputs": [],
   "source": [
    "#@title Define the plotting function.\n",
    "def plot_curve(epochs, hist, list_of_metrics):\n",
    "    \n",
    "    \"\"\"Plot a curve of one or more classification metrics vs. epoch.\"\"\"  \n",
    "    # list_of_metrics should be one of the names shown in:\n",
    "    # https://www.tensorflow.org/tutorials/structured_data/imbalanced_data#define_the_model_and_metrics  \n",
    "    plt.figure()\n",
    "    plt.xlabel(\"Epoch\")\n",
    "    plt.ylabel(\"Value\")\n",
    "    for m in list_of_metrics:\n",
    "        \n",
    "        x = hist[m]\n",
    "        plt.plot(epochs[1:], x[1:], label=m)\n",
    "\n",
    "    plt.legend()"
   ]
  },
  {
   "cell_type": "code",
   "execution_count": 11,
   "metadata": {},
   "outputs": [
    {
     "name": "stdout",
     "output_type": "stream",
     "text": [
      "Epoch 1/20\n",
      "17000/17000 [==============================] - 5s 280us/sample - loss: 0.5330 - accuracy: 0.5655 - precision: 0.3572 - recall: 0.9244\n",
      "Epoch 2/20\n",
      "17000/17000 [==============================] - 5s 296us/sample - loss: 0.4963 - accuracy: 0.6354 - precision: 0.3964 - recall: 0.8794\n",
      "Epoch 3/20\n",
      "17000/17000 [==============================] - 5s 315us/sample - loss: 0.4673 - accuracy: 0.6821 - precision: 0.4297 - recall: 0.8328\n",
      "Epoch 4/20\n",
      "17000/17000 [==============================] - 5s 309us/sample - loss: 0.4447 - accuracy: 0.7191 - precision: 0.4635 - recall: 0.7909\n",
      "Epoch 5/20\n",
      "17000/17000 [==============================] - 5s 282us/sample - loss: 0.4274 - accuracy: 0.7428 - precision: 0.4903 - recall: 0.7523s - loss: 0.4286 - accuracy: 0.7430 - precision: 0.4946 - recall\n",
      "Epoch 6/20\n",
      "17000/17000 [==============================] - 5s 286us/sample - loss: 0.4150 - accuracy: 0.7667 - precision: 0.5245 - recall: 0.7078s - loss: 0.4097 - a\n",
      "Epoch 7/20\n",
      "17000/17000 [==============================] - 5s 293us/sample - loss: 0.4063 - accuracy: 0.7835 - precision: 0.5543 - recall: 0.6819\n",
      "Epoch 8/20\n",
      "17000/17000 [==============================] - 6s 332us/sample - loss: 0.4015 - accuracy: 0.7947 - precision: 0.5783 - recall: 0.6583\n",
      "Epoch 9/20\n",
      "17000/17000 [==============================] - 5s 292us/sample - loss: 0.3989 - accuracy: 0.8005 - precision: 0.5929 - recall: 0.6433\n",
      "Epoch 10/20\n",
      "17000/17000 [==============================] - 5s 280us/sample - loss: 0.3977 - accuracy: 0.8057 - precision: 0.6067 - recall: 0.6320\n",
      "Epoch 11/20\n",
      "17000/17000 [==============================] - 5s 290us/sample - loss: 0.3971 - accuracy: 0.8069 - precision: 0.6120 - recall: 0.6209\n",
      "Epoch 12/20\n",
      "17000/17000 [==============================] - 5s 283us/sample - loss: 0.3969 - accuracy: 0.8076 - precision: 0.6145 - recall: 0.6167\n",
      "Epoch 13/20\n",
      "17000/17000 [==============================] - 6s 330us/sample - loss: 0.3967 - accuracy: 0.8083 - precision: 0.6165 - recall: 0.6157\n",
      "Epoch 14/20\n",
      "17000/17000 [==============================] - 4s 258us/sample - loss: 0.3967 - accuracy: 0.8086 - precision: 0.6173 - recall: 0.6153\n",
      "Epoch 15/20\n",
      "17000/17000 [==============================] - 5s 307us/sample - loss: 0.3966 - accuracy: 0.8089 - precision: 0.6183 - recall: 0.6146\n",
      "Epoch 16/20\n",
      "17000/17000 [==============================] - 6s 367us/sample - loss: 0.3966 - accuracy: 0.8094 - precision: 0.6195 - recall: 0.6138\n",
      "Epoch 17/20\n",
      "17000/17000 [==============================] - 5s 300us/sample - loss: 0.3966 - accuracy: 0.8094 - precision: 0.6195 - recall: 0.6146s - loss: 0.3966 - accuracy: 0.8092 - precision: 0.6188 - recall: 0.61\n",
      "Epoch 18/20\n",
      "17000/17000 [==============================] - 5s 300us/sample - loss: 0.3966 - accuracy: 0.8089 - precision: 0.6182 - recall: 0.6143s - loss: 0.4070 - acc\n",
      "Epoch 19/20\n",
      "17000/17000 [==============================] - 6s 380us/sample - loss: 0.3966 - accuracy: 0.8094 - precision: 0.6199 - recall: 0.6131s - loss: 0.3977 - accuracy: 0.8069 - precision: 0.6151 - recall: 0.61 - ETA: 1s - loss: 0.3982 - accuracy: \n",
      "Epoch 20/20\n",
      "17000/17000 [==============================] - 7s 403us/sample - loss: 0.3966 - accuracy: 0.8095 - precision: 0.6196 - recall: 0.6148s - loss: 0.3921 - accuracy: 0.8109 - p\n"
     ]
    },
    {
     "data": {
      "image/png": "[encoded data removed]",
      "text/plain": [
       "<Figure size 432x288 with 1 Axes>"
      ]
     },
     "metadata": {
      "needs_background": "light"
     },
     "output_type": "display_data"
    }
   ],
   "source": [
    "learning_rate=0.001\n",
    "epochs=20\n",
    "batch_size=100\n",
    "label_name=\"median_house_value_is_high\"\n",
    "classification_threshold=0.35\n",
    "\n",
    "METRICS = [\n",
    "      tf.keras.metrics.BinaryAccuracy(name='accuracy', \n",
    "                                      threshold=classification_threshold),\n",
    "      tf.keras.metrics.Precision(thresholds=classification_threshold,\n",
    "                                 name='precision' \n",
    "                                 ),\n",
    "      tf.keras.metrics.Recall(thresholds=classification_threshold,\n",
    "                              name=\"recall\"),\n",
    "]\n",
    "\n",
    "# Establish the model's topography.\n",
    "my_model = create_model(learning_rate, feature_layer, METRICS)\n",
    "\n",
    "# Train the model on the training set.\n",
    "epochs, hist = train_model(my_model, train_df_norm, epochs, \n",
    "                           label_name, batch_size)\n",
    "\n",
    "# Plot metrics vs. epochs\n",
    "list_of_metrics_to_plot = ['accuracy', \"precision\", \"recall\"] \n",
    "plot_curve(epochs, hist, list_of_metrics_to_plot)\n",
    "\n",
    "\n",
    "# The new graphs suggest that precision and recall are \n",
    "# somewhat in conflict. That is, improvements to one of\n",
    "# those metrics may hurt the other metric."
   ]
  },
  {
   "cell_type": "code",
   "execution_count": 10,
   "metadata": {},
   "outputs": [
    {
     "name": "stdout",
     "output_type": "stream",
     "text": [
      "3000/3000 [==============================] - 0s 32us/sample - loss: 0.4068 - accuracy: 0.8003\n"
     ]
    },
    {
     "data": {
      "text/plain": [
       "[0.40675135254859923, 0.8003333]"
      ]
     },
     "execution_count": 10,
     "metadata": {},
     "output_type": "execute_result"
    }
   ],
   "source": [
    "features = {name:np.array(value) for name, value in test_df_norm.items()}\n",
    "label = np.array(features.pop(label_name))\n",
    "\n",
    "my_model.evaluate(x = features, y = label, batch_size=batch_size)"
   ]
  }
 ],
 "metadata": {
  "kernelspec": {
   "display_name": "Python 3",
   "language": "python",
   "name": "python3"
  },
  "language_info": {
   "codemirror_mode": {
    "name": "ipython",
    "version": 3
   },
   "file_extension": ".py",
   "mimetype": "text/x-python",
   "name": "python",
   "nbconvert_exporter": "python",
   "pygments_lexer": "ipython3",
   "version": "3.7.6"
  }
 },
 "nbformat": 4,
 "nbformat_minor": 4
}
